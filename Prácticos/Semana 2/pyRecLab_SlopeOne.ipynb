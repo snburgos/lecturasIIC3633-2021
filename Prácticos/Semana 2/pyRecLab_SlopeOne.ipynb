{
  "nbformat": 4,
  "nbformat_minor": 0,
  "metadata": {
    "colab": {
      "name": "pyRecLab_SlopeOne.ipynb",
      "provenance": [],
      "collapsed_sections": [],
      "toc_visible": true,
      "include_colab_link": true
    },
    "kernelspec": {
      "display_name": "Python 3",
      "language": "python",
      "name": "python3"
    },
    "language_info": {
      "codemirror_mode": {
        "name": "ipython",
        "version": 3
      },
      "file_extension": ".py",
      "mimetype": "text/x-python",
      "name": "python",
      "nbconvert_exporter": "python",
      "pygments_lexer": "ipython3",
      "version": "3.6.0"
    },
    "toc": {
      "base_numbering": 1,
      "nav_menu": {},
      "number_sections": true,
      "sideBar": true,
      "skip_h1_title": false,
      "title_cell": "Table of Contents",
      "title_sidebar": "Contents",
      "toc_cell": false,
      "toc_position": {},
      "toc_section_display": true,
      "toc_window_display": false
    }
  },
  "cells": [
    {
      "cell_type": "markdown",
      "metadata": {
        "id": "view-in-github",
        "colab_type": "text"
      },
      "source": [
        "<a href=\"https://colab.research.google.com/github/snburgos/lecturasIIC3633-2021/blob/main/Pr%C3%A1cticos/Semana%202/pyRecLab_SlopeOne.ipynb\" target=\"_parent\"><img src=\"https://colab.research.google.com/assets/colab-badge.svg\" alt=\"Open In Colab\"/></a>"
      ]
    },
    {
      "cell_type": "markdown",
      "metadata": {
        "id": "view-in-youtube"
      },
      "source": [
        "<a href=\"https://youtu.be/A2euuevpYis\" target=\"_parent\"><img src=\"https://upload.wikimedia.org/wikipedia/commons/thumb/0/09/YouTube_full-color_icon_%282017%29.svg/71px-YouTube_full-color_icon_%282017%29.svg.png\" alt=\"Open In Colab\"/></a>\n"
      ]
    },
    {
      "cell_type": "markdown",
      "metadata": {
        "id": "0kY7Xfgi84HC"
      },
      "source": [
        "# **Práctico Sistemas Recomendadores: pyreclab - Slope One**\n",
        "\n",
        "En este práctico seguiremos utilizando [pyreclab](https://github.com/gasevi/pyreclab), con el cual estamos aprendiendo distintas técnicas de recomendación. Seguiremos usando la misma base de datos de los prácticos anteriores, para que puedan comparar los métodos y sus implementaciones. Este práctico está acompañado de un [video comentando la actividad](https://youtu.be/A2euuevpYis).\n",
        "\n",
        "En esta oportunidad exploraremos el recomendador de Pendiente Uno o **Slope One** [1].\n",
        "\n",
        "**Adaptado y preparado por:** Francisca Cattan 📩 fpcattan@uc.cl\n",
        "\n",
        "Referencias 📖\n",
        "------\n",
        "[1] *Lemire, D., & Maclachlan, A. (2005, April). Slope One Predictors for Online Rating-Based Collaborative Filtering. In SDM (Vol. 5, pp. 1-5).*\n"
      ]
    },
    {
      "cell_type": "markdown",
      "metadata": {
        "id": "1s6Ac_Kh9qiH"
      },
      "source": [
        "**Nombre**: Sebastián Burgos Martínez"
      ]
    },
    {
      "cell_type": "markdown",
      "metadata": {
        "id": "Z4Jr74pP-4gt"
      },
      "source": [
        "## Actividad 1 👓\n",
        "\n",
        "Antes de empezar con el práctico, responde la siguiente pregunta con lo visto en clases.\n",
        "\n",
        "**Pregunta:** Explique cómo funciona Slope One (como modelo teórico, no piense en la implementación). En particular explique:\n",
        "\n",
        "- Repasemos: ¿Por qué este recomendador es un algoritmo de Filtrado Colaborativo?\n",
        "- Este Filtrado Colaborativo, ¿está basado en el usuario o en los items? ¿Por qué?\n",
        "- ¿Qué datos recibe Slope One y qué hace con ellos? (qué tipo de columnas y qué calculo)\n",
        "- ¿Qué pasaría si se agrega un nuevo rating a la base de datos?\n",
        "- Opcional: ¿Cómo crees que le iría al recomendador con un usuario que acaba de entrar al sistema y ha asignado muy pocos ratings?\n",
        "\n",
        "💡 *Hint: La bibliografía todo lo puede.*"
      ]
    },
    {
      "cell_type": "markdown",
      "metadata": {
        "id": "X-9bWL3aD_qt"
      },
      "source": [
        "**Respuesta:**\n",
        "\n",
        "Slope One funciona en base a las diferencias de ratings entre pares de items. Suponiendo que se quiere obtener la predicción del item B a partir del item A para un usuario se realiza lo siguiente: en el caso de tener varios usuarios se sacan las diferencias entre el item A e item B para todos los usuarios que hayan evaluado ambos items. Luego, se obtiene un promedio de las diferencias y a partir del rating del item A del usuario, se le suma la diferencia obtenida anteriormente. Ahora, esto puede escalar a ocupar más diferencias de items y ponderar según el número de diferencias en cada caso.\n",
        "\n",
        "* Este recomendador en un algoritmo de filtrado colaborativo, porque se ocupa la información de otros usuarios con sus respectivos ratings para los items, para predecir un rating.\n",
        "\n",
        "* Está basado en los items. Esto, debido a que compara items con items (la diferencia de los ratings entre estos). Además, el algoritmo funciona mejor si se tienen items similares o con tendencias similares y con una gran cantidad de usuarios.\n",
        "\n",
        "* Recibe usuarios, items y ratings. Lo que hace es calcular la diferencia de rating entre los distintos items para aquellos usuarios que han evaluado estes items. Entonces, obtiene la suma de las diferencias entre 2 items, para todos los items, con su respectiva cuenta para realizar las ponderaciones.\n",
        "\n",
        "* Al agregar un nuevo rating a la base de datos se pueden sumar las diferencias entre el nuevo rating y los otros ratings del mismo usuario a las sumatorias correspondientes. Por ejemplo, si están los items A, B y C donde el usuario había evaluado A y B y ahora se agrega el rating de C, entonces a $dev_{A,C}$ se le suma la diferencia de ratings entre A y C y a $dev_{B,C}$ se le suma la diferencia de rating entre B y C. Luego, se pueden realizar los cálculos respectivos para las predicciones con las nuevas sumatorias y cuentas.\n",
        "\n",
        "* Como este algoritmo toma la información de muchos usuarios, el tener pocos ratings no es tan crucial. De hecho, si se tiene solamente un rating y la tendencia entre dos items es muy clara, lo más probable es que la predicción sea bastante certera. Ahora, obviamente el tener pocos ratings dificulta el trabajo, ya que, normalmente, entre más información mejor. Lo importante es que debido a la naturaleza del algoritmo, es robusto frente al tener pocos ratings, pero a medida que se agregan ratings las predicciones deberían mejorar."
      ]
    },
    {
      "cell_type": "markdown",
      "metadata": {
        "id": "HaFY1qNzHyCD"
      },
      "source": [
        "# **Configuración Inicial**"
      ]
    },
    {
      "cell_type": "markdown",
      "metadata": {
        "id": "MvGNsjiIIC6G"
      },
      "source": [
        "## Paso 1:\n",
        "Descargue directamente a Colab los archivos del dataset ejecutando las siguientes 3 celdas:\n"
      ]
    },
    {
      "cell_type": "code",
      "metadata": {
        "colab": {
          "base_uri": "https://localhost:8080/"
        },
        "id": "_7M_ehHq8ti2",
        "outputId": "988a2299-1938-4123-de4a-f62b3b0072b7"
      },
      "source": [
        "!curl -L -o \"u1.base\" \"https://drive.google.com/uc?export=download&id=1bGweNw7NbOHoJz11v6ld7ymLR8MLvBsA\""
      ],
      "execution_count": 1,
      "outputs": [
        {
          "output_type": "stream",
          "text": [
            "  % Total    % Received % Xferd  Average Speed   Time    Time     Time  Current\n",
            "                                 Dload  Upload   Total   Spent    Left  Speed\n",
            "100   388    0   388    0     0    338      0 --:--:--  0:00:01 --:--:--   338\n",
            "100 1546k  100 1546k    0     0   985k      0  0:00:01  0:00:01 --:--:--  985k\n"
          ],
          "name": "stdout"
        }
      ]
    },
    {
      "cell_type": "code",
      "metadata": {
        "colab": {
          "base_uri": "https://localhost:8080/"
        },
        "id": "CSdhurW1InVW",
        "outputId": "4318c572-240a-46c0-dce8-b839c2f4271a"
      },
      "source": [
        "!curl -L -o \"u1.test\" \"https://drive.google.com/uc?export=download&id=1f_HwJWC_1HFzgAjKAWKwkuxgjkhkXrVg\""
      ],
      "execution_count": 2,
      "outputs": [
        {
          "output_type": "stream",
          "text": [
            "  % Total    % Received % Xferd  Average Speed   Time    Time     Time  Current\n",
            "                                 Dload  Upload   Total   Spent    Left  Speed\n",
            "100   388    0   388    0     0    512      0 --:--:-- --:--:-- --:--:--   511\n",
            "100  385k  100  385k    0     0   308k      0  0:00:01  0:00:01 --:--:-- 2991k\n"
          ],
          "name": "stdout"
        }
      ]
    },
    {
      "cell_type": "code",
      "metadata": {
        "colab": {
          "base_uri": "https://localhost:8080/"
        },
        "id": "QoGzmPG2InzM",
        "outputId": "d18d6d52-fb30-4513-f6ef-11c3b3634190"
      },
      "source": [
        "!curl -L -o \"u.item\" \"https://drive.google.com/uc?export=download&id=10YLhxkO2-M_flQtyo9OYV4nT9IvSESuz\""
      ],
      "execution_count": 3,
      "outputs": [
        {
          "output_type": "stream",
          "text": [
            "  % Total    % Received % Xferd  Average Speed   Time    Time     Time  Current\n",
            "                                 Dload  Upload   Total   Spent    Left  Speed\n",
            "100   388    0   388    0     0    544      0 --:--:-- --:--:-- --:--:--   544\n",
            "100  230k  100  230k    0     0   210k      0  0:00:01  0:00:01 --:--:--  625k\n"
          ],
          "name": "stdout"
        }
      ]
    },
    {
      "cell_type": "markdown",
      "metadata": {
        "id": "kluVF2eJIyjq"
      },
      "source": [
        "Los archivos **u1.base** y **u1.test** tienen tuplas {usuario, item, rating, timestamp}, que es la información de preferencias de usuarios sobre películas en una muestra del dataset [movielens](https://grouplens.org/datasets/movielens/)."
      ]
    },
    {
      "cell_type": "markdown",
      "metadata": {
        "id": "uopKG59rJWM9"
      },
      "source": [
        "## Paso 2:\n",
        "\n",
        "Instalamos pyreclab utilizando pip."
      ]
    },
    {
      "cell_type": "code",
      "metadata": {
        "colab": {
          "base_uri": "https://localhost:8080/"
        },
        "id": "hi9L5FZdJWfI",
        "outputId": "7412b48b-7efe-4323-d058-c13f55a17d3b"
      },
      "source": [
        "!pip install pyreclab --upgrade"
      ],
      "execution_count": 4,
      "outputs": [
        {
          "output_type": "stream",
          "text": [
            "Collecting pyreclab\n",
            "  Downloading pyreclab-0.1.15-cp37-cp37m-manylinux2010_x86_64.whl (234 kB)\n",
            "\u001b[K     |████████████████████████████████| 234 kB 6.4 MB/s \n",
            "\u001b[?25hInstalling collected packages: pyreclab\n",
            "Successfully installed pyreclab-0.1.15\n"
          ],
          "name": "stdout"
        }
      ]
    },
    {
      "cell_type": "markdown",
      "metadata": {
        "id": "M28DoBHtN5qD"
      },
      "source": [
        "## Paso 3:\n",
        "\n",
        "Hacemos los imports necesarios para este práctico."
      ]
    },
    {
      "cell_type": "code",
      "metadata": {
        "id": "KQ0jQ_JcN3el"
      },
      "source": [
        "import pyreclab\n",
        "import numpy as np\n",
        "import pandas as pd"
      ],
      "execution_count": 5,
      "outputs": []
    },
    {
      "cell_type": "markdown",
      "metadata": {
        "id": "bmxNQtXvfJy3"
      },
      "source": [
        "# **El dataset**\n",
        "\n",
        "💡 *En prácticos anteriores, vimos como analizar este dataset. Puedes revisarlos en caso de dudas.*"
      ]
    },
    {
      "cell_type": "markdown",
      "metadata": {
        "id": "nAdXLT7haQe1"
      },
      "source": [
        "## Paso 4:\n",
        "\n",
        "Ya que queremos crear una lista de recomendación de items para un usuario en especifico, necesitamos obtener información adicional de cada película tal como título, fecha de lanzamiento, género, etc. Cargaremos el archivo de items descargado \"u.item\" para poder mapear cada identificador de ítem al conjunto de datos que lo describe."
      ]
    },
    {
      "cell_type": "code",
      "metadata": {
        "id": "p0vHiGJheUkB"
      },
      "source": [
        "# Definimos el orden de las columnas\n",
        "info_cols = [ 'movieid', 'title', 'release_date', 'video_release_date', 'IMDb_URL', \\\n",
        "              'unknown', 'Action', 'Adventure', 'Animation', 'Children', 'Comedy', \\\n",
        "              'Crime', 'Documentary', 'Drama', 'Fantasy', 'Film-Noir', 'Horror', \\\n",
        "              'Musical', 'Mystery', 'Romance', 'Sci-Fi', 'Thriller', 'War', 'Western' ]\n",
        "\n",
        "# Asignamos a una variable la estructura de datos de los items\n",
        "info_file = pd.read_csv('u.item', sep='|', index_col = 0, names = info_cols, header=None, encoding='latin-1')"
      ],
      "execution_count": 6,
      "outputs": []
    },
    {
      "cell_type": "markdown",
      "metadata": {
        "id": "z4pjNDlMOOdo"
      },
      "source": [
        "# **Slope One**"
      ]
    },
    {
      "cell_type": "markdown",
      "metadata": {
        "id": "H5sx7xkfQE6W"
      },
      "source": [
        "## Paso 5:\n",
        "\n",
        "Seguiremos un camino muy similar a los ejercicios de User KNN e Item KNN. Crearemos una instancia del algoritmo de recomendación y luego pasaremos a la fase de entrenamiento."
      ]
    },
    {
      "cell_type": "code",
      "metadata": {
        "id": "v3D7CAoyPfko"
      },
      "source": [
        "# Declaramos la instancia SlopeOne\n",
        "mySlopeOne = pyreclab.SlopeOne(dataset='u1.base', dlmchar=b'\\t', header=False, usercol=0, itemcol=1, ratingcol=2)"
      ],
      "execution_count": 7,
      "outputs": []
    },
    {
      "cell_type": "code",
      "metadata": {
        "id": "EhacKomkTs51"
      },
      "source": [
        "# Y enntrenamos\n",
        "mySlopeOne.train()"
      ],
      "execution_count": 8,
      "outputs": []
    },
    {
      "cell_type": "markdown",
      "metadata": {
        "id": "Wnb3DkVVTttZ"
      },
      "source": [
        "## Actividad 2 👓\n",
        "\n",
        "**Pregunta:** Explique qué hace el método `train()` en este caso, dado el modelo teórico. ¿Calcula información?, ¿no hace nada?, ¿ordena los datos?"
      ]
    },
    {
      "cell_type": "markdown",
      "metadata": {
        "id": "ZHPmEWPKUmsE"
      },
      "source": [
        "**Respuesta:**\n",
        "\n",
        "Lo que hace `train()` es realizar los cálculos mencionados en la actividad 1. Esto es, calcular las sumas de las diferencias entre los distintos items y la cuenta de estas. Así, se tiene la información procesada para luego solo ocupar las diferencias y sus sumas."
      ]
    },
    {
      "cell_type": "markdown",
      "metadata": {
        "id": "XqR8bZB2VboJ"
      },
      "source": [
        "## Paso 6:\n",
        "\n",
        "Llego la hora de predecir el rating."
      ]
    },
    {
      "cell_type": "code",
      "metadata": {
        "colab": {
          "base_uri": "https://localhost:8080/"
        },
        "id": "H9yigNx9VYZ3",
        "outputId": "94f69ed6-30f9-45ea-8560-7c38f838c7b3"
      },
      "source": [
        "# Esta es la predicción de rating que el usuario ID:457 otorgaría al ítem ID:37\n",
        "# De esta forma podemos comparar el resultado con los prácticos anteriores\n",
        "mySlopeOne.predict(\"457\", \"37\")"
      ],
      "execution_count": 9,
      "outputs": [
        {
          "output_type": "execute_result",
          "data": {
            "text/plain": [
              "3.2408759593963623"
            ]
          },
          "metadata": {},
          "execution_count": 9
        }
      ]
    },
    {
      "cell_type": "code",
      "metadata": {
        "id": "-0ShLi6gYhh_"
      },
      "source": [
        "# También podemos guardar la predicción en una variable\n",
        "prediction = mySlopeOne.predict(\"457\", \"37\")"
      ],
      "execution_count": 10,
      "outputs": []
    },
    {
      "cell_type": "code",
      "metadata": {
        "colab": {
          "base_uri": "https://localhost:8080/",
          "height": 424
        },
        "id": "2yFtdiVcUcKW",
        "outputId": "bdf61621-6f49-41b7-d506-4b211e26c53e"
      },
      "source": [
        "# Podemos comprobar las peliculas rankeadas por el usuario ID:457\n",
        "# Que ciertamente ha participado activamente (¡156 items!)\n",
        "train_file = pd.read_csv('u1.base', sep='\\t', names = ['userid', 'itemid', 'rating', 'timestamp'], header=None)\n",
        "train_file[train_file['userid'] == 457]"
      ],
      "execution_count": 11,
      "outputs": [
        {
          "output_type": "execute_result",
          "data": {
            "text/html": [
              "<div>\n",
              "<style scoped>\n",
              "    .dataframe tbody tr th:only-of-type {\n",
              "        vertical-align: middle;\n",
              "    }\n",
              "\n",
              "    .dataframe tbody tr th {\n",
              "        vertical-align: top;\n",
              "    }\n",
              "\n",
              "    .dataframe thead th {\n",
              "        text-align: right;\n",
              "    }\n",
              "</style>\n",
              "<table border=\"1\" class=\"dataframe\">\n",
              "  <thead>\n",
              "    <tr style=\"text-align: right;\">\n",
              "      <th></th>\n",
              "      <th>userid</th>\n",
              "      <th>itemid</th>\n",
              "      <th>rating</th>\n",
              "      <th>timestamp</th>\n",
              "    </tr>\n",
              "  </thead>\n",
              "  <tbody>\n",
              "    <tr>\n",
              "      <th>37269</th>\n",
              "      <td>457</td>\n",
              "      <td>1</td>\n",
              "      <td>4</td>\n",
              "      <td>882393244</td>\n",
              "    </tr>\n",
              "    <tr>\n",
              "      <th>37270</th>\n",
              "      <td>457</td>\n",
              "      <td>7</td>\n",
              "      <td>4</td>\n",
              "      <td>882393278</td>\n",
              "    </tr>\n",
              "    <tr>\n",
              "      <th>37271</th>\n",
              "      <td>457</td>\n",
              "      <td>9</td>\n",
              "      <td>5</td>\n",
              "      <td>882393485</td>\n",
              "    </tr>\n",
              "    <tr>\n",
              "      <th>37272</th>\n",
              "      <td>457</td>\n",
              "      <td>11</td>\n",
              "      <td>4</td>\n",
              "      <td>882397020</td>\n",
              "    </tr>\n",
              "    <tr>\n",
              "      <th>37273</th>\n",
              "      <td>457</td>\n",
              "      <td>13</td>\n",
              "      <td>3</td>\n",
              "      <td>882393883</td>\n",
              "    </tr>\n",
              "    <tr>\n",
              "      <th>...</th>\n",
              "      <td>...</td>\n",
              "      <td>...</td>\n",
              "      <td>...</td>\n",
              "      <td>...</td>\n",
              "    </tr>\n",
              "    <tr>\n",
              "      <th>37420</th>\n",
              "      <td>457</td>\n",
              "      <td>1047</td>\n",
              "      <td>2</td>\n",
              "      <td>882395964</td>\n",
              "    </tr>\n",
              "    <tr>\n",
              "      <th>37421</th>\n",
              "      <td>457</td>\n",
              "      <td>1119</td>\n",
              "      <td>4</td>\n",
              "      <td>882398308</td>\n",
              "    </tr>\n",
              "    <tr>\n",
              "      <th>37422</th>\n",
              "      <td>457</td>\n",
              "      <td>1168</td>\n",
              "      <td>5</td>\n",
              "      <td>882548761</td>\n",
              "    </tr>\n",
              "    <tr>\n",
              "      <th>37423</th>\n",
              "      <td>457</td>\n",
              "      <td>1210</td>\n",
              "      <td>4</td>\n",
              "      <td>882549905</td>\n",
              "    </tr>\n",
              "    <tr>\n",
              "      <th>37424</th>\n",
              "      <td>457</td>\n",
              "      <td>1221</td>\n",
              "      <td>4</td>\n",
              "      <td>882549438</td>\n",
              "    </tr>\n",
              "  </tbody>\n",
              "</table>\n",
              "<p>156 rows × 4 columns</p>\n",
              "</div>"
            ],
            "text/plain": [
              "       userid  itemid  rating  timestamp\n",
              "37269     457       1       4  882393244\n",
              "37270     457       7       4  882393278\n",
              "37271     457       9       5  882393485\n",
              "37272     457      11       4  882397020\n",
              "37273     457      13       3  882393883\n",
              "...       ...     ...     ...        ...\n",
              "37420     457    1047       2  882395964\n",
              "37421     457    1119       4  882398308\n",
              "37422     457    1168       5  882548761\n",
              "37423     457    1210       4  882549905\n",
              "37424     457    1221       4  882549438\n",
              "\n",
              "[156 rows x 4 columns]"
            ]
          },
          "metadata": {},
          "execution_count": 11
        }
      ]
    },
    {
      "cell_type": "code",
      "metadata": {
        "colab": {
          "base_uri": "https://localhost:8080/",
          "height": 269
        },
        "id": "liVoMHlAYhH_",
        "outputId": "7ce42eda-8cc7-461a-a5ed-4ada4fdb7a70"
      },
      "source": [
        "# Y también cuáles usuarios han rankeado la pelicula ID:37\n",
        "train_file[train_file['itemid'] == 37]"
      ],
      "execution_count": 12,
      "outputs": [
        {
          "output_type": "execute_result",
          "data": {
            "text/html": [
              "<div>\n",
              "<style scoped>\n",
              "    .dataframe tbody tr th:only-of-type {\n",
              "        vertical-align: middle;\n",
              "    }\n",
              "\n",
              "    .dataframe tbody tr th {\n",
              "        vertical-align: top;\n",
              "    }\n",
              "\n",
              "    .dataframe thead th {\n",
              "        text-align: right;\n",
              "    }\n",
              "</style>\n",
              "<table border=\"1\" class=\"dataframe\">\n",
              "  <thead>\n",
              "    <tr style=\"text-align: right;\">\n",
              "      <th></th>\n",
              "      <th>userid</th>\n",
              "      <th>itemid</th>\n",
              "      <th>rating</th>\n",
              "      <th>timestamp</th>\n",
              "    </tr>\n",
              "  </thead>\n",
              "  <tbody>\n",
              "    <tr>\n",
              "      <th>1302</th>\n",
              "      <td>13</td>\n",
              "      <td>37</td>\n",
              "      <td>1</td>\n",
              "      <td>882397011</td>\n",
              "    </tr>\n",
              "    <tr>\n",
              "      <th>14851</th>\n",
              "      <td>201</td>\n",
              "      <td>37</td>\n",
              "      <td>2</td>\n",
              "      <td>884114635</td>\n",
              "    </tr>\n",
              "    <tr>\n",
              "      <th>19670</th>\n",
              "      <td>268</td>\n",
              "      <td>37</td>\n",
              "      <td>3</td>\n",
              "      <td>876514002</td>\n",
              "    </tr>\n",
              "    <tr>\n",
              "      <th>29489</th>\n",
              "      <td>363</td>\n",
              "      <td>37</td>\n",
              "      <td>2</td>\n",
              "      <td>891498510</td>\n",
              "    </tr>\n",
              "    <tr>\n",
              "      <th>31084</th>\n",
              "      <td>385</td>\n",
              "      <td>37</td>\n",
              "      <td>4</td>\n",
              "      <td>880013483</td>\n",
              "    </tr>\n",
              "    <tr>\n",
              "      <th>32996</th>\n",
              "      <td>405</td>\n",
              "      <td>37</td>\n",
              "      <td>1</td>\n",
              "      <td>885548384</td>\n",
              "    </tr>\n",
              "    <tr>\n",
              "      <th>62777</th>\n",
              "      <td>773</td>\n",
              "      <td>37</td>\n",
              "      <td>3</td>\n",
              "      <td>888540352</td>\n",
              "    </tr>\n",
              "  </tbody>\n",
              "</table>\n",
              "</div>"
            ],
            "text/plain": [
              "       userid  itemid  rating  timestamp\n",
              "1302       13      37       1  882397011\n",
              "14851     201      37       2  884114635\n",
              "19670     268      37       3  876514002\n",
              "29489     363      37       2  891498510\n",
              "31084     385      37       4  880013483\n",
              "32996     405      37       1  885548384\n",
              "62777     773      37       3  888540352"
            ]
          },
          "metadata": {},
          "execution_count": 12
        }
      ]
    },
    {
      "cell_type": "markdown",
      "metadata": {
        "id": "u2P14hwFXytK"
      },
      "source": [
        "## Actividad 3 👓\n",
        "\n",
        "Haremos un pequeño experimento para entender mejor como funciona Slope One. Gracias al ejercicio anterior, sabemos que el usuario 457 ya ha asignado el mejor rating (5 ⭐) a las dos peliculas ID:9 e ID:1168. Comparemos.\n",
        "\n",
        "**Pregunta:** ¿Cómo se explican estos resultados?"
      ]
    },
    {
      "cell_type": "code",
      "metadata": {
        "colab": {
          "base_uri": "https://localhost:8080/"
        },
        "id": "nLuEp8pvYEcD",
        "outputId": "5504e59e-8399-4a38-b3e2-3f80293934d0"
      },
      "source": [
        "ratings = train_file[train_file['userid'] == 457]['rating']\n",
        "sum(ratings) / len(ratings)"
      ],
      "execution_count": 22,
      "outputs": [
        {
          "output_type": "execute_result",
          "data": {
            "text/plain": [
              "4.038461538461538"
            ]
          },
          "metadata": {},
          "execution_count": 22
        }
      ]
    },
    {
      "cell_type": "markdown",
      "metadata": {
        "id": "GFheK1rQV2M8"
      },
      "source": [
        "**Respuesta:**\n",
        "\n",
        "Estos resultados se explican, ya que la predicción se hace en base a la diferencia de items de muchos otros usuarios y se toma como base al usuario mismo. Este usuario tiene un rating promedio de 4.04. Entonces más o menos esa es su base (ya que probablemente no se cuenta el item 9 o item 1168 respectivamente). Luego, a esta base se le suma la diferencia que en un caso es 0.49 y el otro 0.13 aproximadamente. Así, se obtienen los resultados. Como en usuario dio un rating de 5 para ambos casos, estas predicciones son bastante efectivas, ya que para el id 9, si se aproxima, da 5, mientras que para el id 1168, aunque no da tan cerca de 5, si se acerca a partir de la base. O sea, en ambos casos la predicción se mejora al sumar la diferencia en comparación a la base sola."
      ]
    },
    {
      "cell_type": "code",
      "metadata": {
        "colab": {
          "base_uri": "https://localhost:8080/"
        },
        "id": "gaqUjAQaVseB",
        "outputId": "6c9e00bb-f865-4075-fe21-2b3af98da30f"
      },
      "source": [
        "prediction_id9 = mySlopeOne.predict(\"457\", \"9\")\n",
        "prediction_id1168 = mySlopeOne.predict(\"457\", \"1168\")\n",
        "\n",
        "print('Prediction for ID:9 :', prediction_id9)\n",
        "print('Prediction for ID:1168 :', prediction_id1168)"
      ],
      "execution_count": 13,
      "outputs": [
        {
          "output_type": "stream",
          "text": [
            "Prediction for ID:9 : 4.530702114105225\n",
            "Prediction for ID:1168 : 4.166153907775879\n"
          ],
          "name": "stdout"
        }
      ]
    },
    {
      "cell_type": "markdown",
      "metadata": {
        "id": "N8dIE2n_YYnV"
      },
      "source": [
        "## Paso 7:\n",
        "\n",
        "Generaremos ahora una lista ordenada de las top-N recomendaciones, dado un usuario.\n",
        "\n"
      ]
    },
    {
      "cell_type": "code",
      "metadata": {
        "colab": {
          "base_uri": "https://localhost:8080/"
        },
        "id": "CVcJ1I1nZaK1",
        "outputId": "02fde8fd-e988-4fe3-db38-800092794fc9"
      },
      "source": [
        "# Mediante el método recommend() genereremos una lista top-5 recomendaciones para el usuario ID:457\n",
        "reclist_slopeone = mySlopeOne.recommend(\"457\", 5)\n",
        "\n",
        "# Y visualizaremos el resultado\n",
        "print('Lista de items según ID:', reclist_slopeone)"
      ],
      "execution_count": 23,
      "outputs": [
        {
          "output_type": "stream",
          "text": [
            "Lista de items según ID: ['1592', '1589', '1656', '1431', '1653']\n"
          ],
          "name": "stdout"
        }
      ]
    },
    {
      "cell_type": "code",
      "metadata": {
        "colab": {
          "base_uri": "https://localhost:8080/"
        },
        "id": "BFdRZKQcZtHE",
        "outputId": "9d13580a-3a00-4e70-a96a-24f6b21725e5"
      },
      "source": [
        "# Lo convertimos a numpy array\n",
        "recmovies_slopeone = np.array(reclist_slopeone).astype(int)\n",
        "\n",
        "# Utilizamos la estructura de datos de los items para encontrar los títulos recomendados\n",
        "print('Lista de items por nombre:')\n",
        "info_file.loc[recmovies_slopeone]['title']"
      ],
      "execution_count": 24,
      "outputs": [
        {
          "output_type": "stream",
          "text": [
            "Lista de items por nombre:\n"
          ],
          "name": "stdout"
        },
        {
          "output_type": "execute_result",
          "data": {
            "text/plain": [
              "movieid\n",
              "1592                               Magic Hour, The (1998)\n",
              "1589                                   Schizopolis (1996)\n",
              "1656                                   Little City (1998)\n",
              "1431                                  Legal Deceit (1997)\n",
              "1653    Entertaining Angels: The Dorothy Day Story (1996)\n",
              "Name: title, dtype: object"
            ]
          },
          "metadata": {},
          "execution_count": 24
        }
      ]
    },
    {
      "cell_type": "markdown",
      "metadata": {
        "id": "NlX6FLTxdPRm"
      },
      "source": [
        "## Actividad 4 👩🏻‍💻\n",
        "\n",
        "Genera una nueva recomendacion, modificando los hiperparametros de usuario y topN a tu elección.\n",
        "\n",
        "**Pregunta:** ¿Ves una diferencia en la recomendación entre el nuevo usuario y el usuario ID:457?"
      ]
    },
    {
      "cell_type": "markdown",
      "metadata": {
        "id": "oMtrquLVetGE"
      },
      "source": [
        "**Respuesta:**\n",
        "\n",
        "Existe una clara diferencia. De las 5 recomendaciones solamente hay una que coincide y, está en una posición distinta. Que existan igualdades tiene mucho sentido, ya que se buscan las diferencias positivas más grandes para recomendar. Entonces, si una película es buena, esta diferencia en más grande con la mayoría de las películas. Ahora, también tiene sentido que hayan diferencias, ya que las películas que ha visto un usuario son distintas a las que ha visto otro usuario."
      ]
    },
    {
      "cell_type": "code",
      "metadata": {
        "id": "YQM7mfwDdY3j",
        "colab": {
          "base_uri": "https://localhost:8080/"
        },
        "outputId": "49a2d8d2-de23-49d2-e2dc-7da0e1452120"
      },
      "source": [
        "# Mediante el método recommend() genereremos una lista top-5 recomendaciones para el usuario ID:5\n",
        "reclist_slopeone = mySlopeOne.recommend(\"5\", 5)\n",
        "\n",
        "# Y visualizaremos el resultado\n",
        "print('Lista de items según ID:', reclist_slopeone)"
      ],
      "execution_count": 26,
      "outputs": [
        {
          "output_type": "stream",
          "text": [
            "Lista de items según ID: ['1080', '1653', '1512', '1536', '1463']\n"
          ],
          "name": "stdout"
        }
      ]
    },
    {
      "cell_type": "code",
      "metadata": {
        "colab": {
          "base_uri": "https://localhost:8080/"
        },
        "id": "OBuD3PEMarX1",
        "outputId": "cb6527c2-b7eb-438a-f909-88b8e4ded376"
      },
      "source": [
        "# Lo convertimos a numpy array\n",
        "recmovies_slopeone = np.array(reclist_slopeone).astype(int)\n",
        "\n",
        "# Utilizamos la estructura de datos de los items para encontrar los títulos recomendados\n",
        "print('Lista de items por nombre:')\n",
        "info_file.loc[recmovies_slopeone]['title']"
      ],
      "execution_count": 27,
      "outputs": [
        {
          "output_type": "stream",
          "text": [
            "Lista de items por nombre:\n"
          ],
          "name": "stdout"
        },
        {
          "output_type": "execute_result",
          "data": {
            "text/plain": [
              "movieid\n",
              "1080                           Celestial Clockwork (1994)\n",
              "1653    Entertaining Angels: The Dorothy Day Story (1996)\n",
              "1512               World of Apu, The (Apur Sansar) (1959)\n",
              "1536                                 Aiqing wansui (1994)\n",
              "1463                                     Boys, Les (1997)\n",
              "Name: title, dtype: object"
            ]
          },
          "metadata": {},
          "execution_count": 27
        }
      ]
    },
    {
      "cell_type": "markdown",
      "metadata": {
        "id": "QmjtN17NcJu_"
      },
      "source": [
        "A continuación hago el mismo experimento, pero con el top 10."
      ]
    },
    {
      "cell_type": "code",
      "metadata": {
        "colab": {
          "base_uri": "https://localhost:8080/"
        },
        "id": "xVk-dU4yb__B",
        "outputId": "312c740c-007b-4a19-c899-be4d3ef72a22"
      },
      "source": [
        "# Mediante el método recommend() genereremos una lista top-10 recomendaciones para el usuario ID:457\n",
        "reclist_slopeone = mySlopeOne.recommend(\"457\", 10)\n",
        "\n",
        "# Lo convertimos a numpy array\n",
        "recmovies_slopeone = np.array(reclist_slopeone).astype(int)\n",
        "\n",
        "# Utilizamos la estructura de datos de los items para encontrar los títulos recomendados\n",
        "print('Lista de items por nombre:')\n",
        "info_file.loc[recmovies_slopeone]['title']"
      ],
      "execution_count": 29,
      "outputs": [
        {
          "output_type": "stream",
          "text": [
            "Lista de items por nombre:\n"
          ],
          "name": "stdout"
        },
        {
          "output_type": "execute_result",
          "data": {
            "text/plain": [
              "movieid\n",
              "1592                               Magic Hour, The (1998)\n",
              "1589                                   Schizopolis (1996)\n",
              "1656                                   Little City (1998)\n",
              "1431                                  Legal Deceit (1997)\n",
              "1653    Entertaining Angels: The Dorothy Day Story (1996)\n",
              "1064                                     Crossfire (1947)\n",
              "1651                         Spanish Prisoner, The (1997)\n",
              "1650                              Butcher Boy, The (1998)\n",
              "1645                              Butcher Boy, The (1998)\n",
              "1643                                    Angel Baby (1995)\n",
              "Name: title, dtype: object"
            ]
          },
          "metadata": {},
          "execution_count": 29
        }
      ]
    },
    {
      "cell_type": "code",
      "metadata": {
        "colab": {
          "base_uri": "https://localhost:8080/"
        },
        "id": "GDyMegR8cQeB",
        "outputId": "efb30b17-b42a-4fdc-c6c3-a7ebbe02c698"
      },
      "source": [
        "# Mediante el método recommend() genereremos una lista top-10 recomendaciones para el usuario ID:5\n",
        "reclist_slopeone = mySlopeOne.recommend(\"5\", 10)\n",
        "\n",
        "# Lo convertimos a numpy array\n",
        "recmovies_slopeone = np.array(reclist_slopeone).astype(int)\n",
        "\n",
        "# Utilizamos la estructura de datos de los items para encontrar los títulos recomendados\n",
        "print('Lista de items por nombre:')\n",
        "info_file.loc[recmovies_slopeone]['title']"
      ],
      "execution_count": 30,
      "outputs": [
        {
          "output_type": "stream",
          "text": [
            "Lista de items por nombre:\n"
          ],
          "name": "stdout"
        },
        {
          "output_type": "execute_result",
          "data": {
            "text/plain": [
              "movieid\n",
              "1080                           Celestial Clockwork (1994)\n",
              "1653    Entertaining Angels: The Dorothy Day Story (1996)\n",
              "1512               World of Apu, The (Apur Sansar) (1959)\n",
              "1536                                 Aiqing wansui (1994)\n",
              "1463                                     Boys, Les (1997)\n",
              "1293                                      Star Kid (1997)\n",
              "814                         Great Day in Harlem, A (1994)\n",
              "112                                        Flipper (1996)\n",
              "111                   Truth About Cats & Dogs, The (1996)\n",
              "108                  Kids in the Hall: Brain Candy (1996)\n",
              "Name: title, dtype: object"
            ]
          },
          "metadata": {},
          "execution_count": 30
        }
      ]
    },
    {
      "cell_type": "markdown",
      "metadata": {
        "id": "ZyA2E6-LcgRI"
      },
      "source": [
        "Se puede apreciar que hay aun más diferencia en las recomendaciones, lo que indica que el sistema es bastante personalizado."
      ]
    },
    {
      "cell_type": "markdown",
      "metadata": {
        "id": "iU2NlezaiIur"
      },
      "source": [
        "## Actividad 5 👩🏻‍💻\n",
        "\n",
        "Dado el usuario ID:44, cree dos listas de películas recomendadas; la primera utilizando el algoritmo Most Popular y la segunda utilizando el algoritmo Slope One.\n",
        "\n",
        "**Pregunta:** Realice un analisis apreciativo de las similitudes y diferencias entre ambas recomendaciones."
      ]
    },
    {
      "cell_type": "markdown",
      "metadata": {
        "id": "3fdqYe67epmI"
      },
      "source": [
        "**Respuesta:**\n",
        "\n",
        "Se puede apreciar que las listas son completamente distintas. Se podría decir que las películas más populares no son las mejores evaluadas. De hecho, para las otras dos listas de recomendaciones de Slope One (usuarios 457 y 5) no se obtienen similitudes con las películas más populares."
      ]
    },
    {
      "cell_type": "code",
      "metadata": {
        "id": "Rxk9ySLQiMC4",
        "colab": {
          "base_uri": "https://localhost:8080/"
        },
        "outputId": "94411713-dde6-44b6-ac9c-0db0fbcd94de"
      },
      "source": [
        "# Definicion de objeto \"most popular\"\n",
        "most_popular = pyreclab.MostPopular(dataset='u1.base',\n",
        "                   dlmchar=b'\\t',\n",
        "                   header=False,\n",
        "                   usercol=0,\n",
        "                   itemcol=1,\n",
        "                   ratingcol=2)\n",
        "\n",
        "# en teoria no es \"entrenar\" , objeto \"most_popular\" solo registra los items más populares en el set de entrenamiento  \n",
        "most_popular.train()\n",
        "\n",
        "# Calcular las recomendaciones para un usuario en particular (id=44)\n",
        "user_id = 44\n",
        "\n",
        "top_n = 10\n",
        "\n",
        "ranking_most_popular = [int(r) for r in most_popular.recommend(str(user_id), top_n, includeRated=False)]\n",
        "\n",
        "# Lo convertimos a numpy array\n",
        "recmovies_most_popular = np.array(ranking_most_popular).astype(int)\n",
        "\n",
        "# Utilizamos la estructura de datos de los items para encontrar los títulos recomendados\n",
        "print('Most Popular - Lista de items por nombre:')\n",
        "info_file.loc[recmovies_most_popular]['title']"
      ],
      "execution_count": 36,
      "outputs": [
        {
          "output_type": "stream",
          "text": [
            "Most Popular - Lista de items por nombre:\n"
          ],
          "name": "stdout"
        },
        {
          "output_type": "execute_result",
          "data": {
            "text/plain": [
              "movieid\n",
              "50                     Star Wars (1977)\n",
              "100                        Fargo (1996)\n",
              "181           Return of the Jedi (1983)\n",
              "286         English Patient, The (1996)\n",
              "1                      Toy Story (1995)\n",
              "121       Independence Day (ID4) (1996)\n",
              "300                Air Force One (1997)\n",
              "127               Godfather, The (1972)\n",
              "7                 Twelve Monkeys (1995)\n",
              "98     Silence of the Lambs, The (1991)\n",
              "Name: title, dtype: object"
            ]
          },
          "metadata": {},
          "execution_count": 36
        }
      ]
    },
    {
      "cell_type": "code",
      "metadata": {
        "colab": {
          "base_uri": "https://localhost:8080/"
        },
        "id": "q-qz43fod1RP",
        "outputId": "94ebc85e-0750-4caf-f1df-6791902c05b8"
      },
      "source": [
        "# Mediante el método recommend() genereremos una lista top-10 recomendaciones para el usuario ID:44\n",
        "reclist_slopeone = mySlopeOne.recommend(\"44\", 10)\n",
        "\n",
        "# Lo convertimos a numpy array\n",
        "recmovies_slopeone = np.array(reclist_slopeone).astype(int)\n",
        "\n",
        "# Utilizamos la estructura de datos de los items para encontrar los títulos recomendados\n",
        "print('Slope One - Lista de items por nombre:')\n",
        "info_file.loc[recmovies_slopeone]['title']"
      ],
      "execution_count": 37,
      "outputs": [
        {
          "output_type": "stream",
          "text": [
            "Slope One - Lista de items por nombre:\n"
          ],
          "name": "stdout"
        },
        {
          "output_type": "execute_result",
          "data": {
            "text/plain": [
              "movieid\n",
              "1656                        Little City (1998)\n",
              "1064                          Crossfire (1947)\n",
              "1643                         Angel Baby (1995)\n",
              "1642                  Some Mother's Son (1996)\n",
              "1625                         Nightwatch (1997)\n",
              "1599             Someone Else's America (1995)\n",
              "1512    World of Apu, The (Apur Sansar) (1959)\n",
              "1536                      Aiqing wansui (1994)\n",
              "1500                 Santa with Muscles (1996)\n",
              "1467      Saint of Fort Washington, The (1993)\n",
              "Name: title, dtype: object"
            ]
          },
          "metadata": {},
          "execution_count": 37
        }
      ]
    }
  ]
}