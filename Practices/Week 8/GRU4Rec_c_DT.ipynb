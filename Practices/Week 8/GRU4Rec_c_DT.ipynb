{
  "nbformat": 4,
  "nbformat_minor": 0,
  "metadata": {
    "colab": {
      "name": "GRU4Rec c/DT.ipynb",
      "provenance": [],
      "collapsed_sections": [],
      "toc_visible": true,
      "include_colab_link": true
    },
    "kernelspec": {
      "name": "python3",
      "display_name": "Python 3"
    },
    "accelerator": "GPU"
  },
  "cells": [
    {
      "cell_type": "markdown",
      "metadata": {
        "id": "view-in-github",
        "colab_type": "text"
      },
      "source": [
        "<a href=\"https://colab.research.google.com/github/snburgos/lecturasIIC3633-2021/blob/main/Practices/Week%208/GRU4Rec_c_DT.ipynb\" target=\"_parent\"><img src=\"https://colab.research.google.com/assets/colab-badge.svg\" alt=\"Open In Colab\"/></a>"
      ]
    },
    {
      "cell_type": "markdown",
      "metadata": {
        "id": "bcrDor7CR1SO"
      },
      "source": [
        "# Gated Recurrent Units for session-based next item prediction\n",
        "\n",
        "Patricio Cerda, Bastián Mavrakis, Denis Parra\n",
        "\n",
        "### Ambiente: Python3 + GPU\n",
        "\n",
        "## Descargar datos y repositorio"
      ]
    },
    {
      "cell_type": "code",
      "metadata": {
        "id": "nCAQDIrOPUQP",
        "colab": {
          "base_uri": "https://localhost:8080/"
        },
        "outputId": "286ca522-e8a9-4319-9cd3-8a3441ca6632"
      },
      "source": [
        "# Clone repo\n",
        "!git clone https://github.com/pcerdam/KerasGRU4Rec --single-branch src"
      ],
      "execution_count": 1,
      "outputs": [
        {
          "output_type": "stream",
          "name": "stdout",
          "text": [
            "Cloning into 'src'...\n",
            "remote: Enumerating objects: 215, done.\u001b[K\n",
            "remote: Counting objects: 100% (24/24), done.\u001b[K\n",
            "remote: Compressing objects: 100% (17/17), done.\u001b[K\n",
            "remote: Total 215 (delta 9), reused 10 (delta 5), pack-reused 191\u001b[K\n",
            "Receiving objects: 100% (215/215), 10.58 MiB | 13.93 MiB/s, done.\n",
            "Resolving deltas: 100% (91/91), done.\n"
          ]
        }
      ]
    },
    {
      "cell_type": "code",
      "metadata": {
        "id": "BpccDqjDPbjI",
        "colab": {
          "base_uri": "https://localhost:8080/"
        },
        "outputId": "5edcf122-cf0a-4fd1-9a3f-c30f2ca2e627"
      },
      "source": [
        "# Download RecSys Challenge 2015 dataset\n",
        "!rm -r sample_data\n",
        "!curl https://s3-eu-west-1.amazonaws.com/yc-rdata/yoochoose-data.7z --output data.7z"
      ],
      "execution_count": 2,
      "outputs": [
        {
          "output_type": "stream",
          "name": "stdout",
          "text": [
            "  % Total    % Received % Xferd  Average Speed   Time    Time     Time  Current\n",
            "                                 Dload  Upload   Total   Spent    Left  Speed\n",
            "100  273M  100  273M    0     0  83.1M      0  0:00:03  0:00:03 --:--:-- 83.1M\n"
          ]
        }
      ]
    },
    {
      "cell_type": "code",
      "metadata": {
        "id": "AJkLaRyqPp-z",
        "colab": {
          "base_uri": "https://localhost:8080/"
        },
        "outputId": "c9e9f5ec-56af-41ff-97c9-77df48aa27ed"
      },
      "source": [
        "# Extract dataset\n",
        "!7z e data.7z -o./rsc15\n",
        "!rm data.7z\n",
        "!mkdir data"
      ],
      "execution_count": 3,
      "outputs": [
        {
          "output_type": "stream",
          "name": "stdout",
          "text": [
            "\n",
            "7-Zip [64] 16.02 : Copyright (c) 1999-2016 Igor Pavlov : 2016-05-21\n",
            "p7zip Version 16.02 (locale=en_US.UTF-8,Utf16=on,HugeFiles=on,64 bits,2 CPUs Intel(R) Xeon(R) CPU @ 2.30GHz (306F0),ASM,AES-NI)\n",
            "\n",
            "Scanning the drive for archives:\n",
            "  0M Scan\b\b\b\b\b\b\b\b\b         \b\b\b\b\b\b\b\b\b1 file, 287211932 bytes (274 MiB)\n",
            "\n",
            "Extracting archive: data.7z\n",
            "--\n",
            "Path = data.7z\n",
            "Type = 7z\n",
            "Physical Size = 287211932\n",
            "Headers Size = 255\n",
            "Method = LZMA:24\n",
            "Solid = +\n",
            "Blocks = 2\n",
            "\n",
            "  0%\b\b\b\b    \b\b\b\b  0% - yoochoose-buys.dat\b\b\b\b\b\b\b\b\b\b\b\b\b\b\b\b\b\b\b\b\b\b\b\b\b                         \b\b\b\b\b\b\b\b\b\b\b\b\b\b\b\b\b\b\b\b\b\b\b\b\b  1% - yoochoose-buys.dat\b\b\b\b\b\b\b\b\b\b\b\b\b\b\b\b\b\b\b\b\b\b\b\b\b                         \b\b\b\b\b\b\b\b\b\b\b\b\b\b\b\b\b\b\b\b\b\b\b\b\b  2% - yoochoose-buys.dat\b\b\b\b\b\b\b\b\b\b\b\b\b\b\b\b\b\b\b\b\b\b\b\b\b                         \b\b\b\b\b\b\b\b\b\b\b\b\b\b\b\b\b\b\b\b\b\b\b\b\b  3% 1 - yoochoose-clicks.dat\b\b\b\b\b\b\b\b\b\b\b\b\b\b\b\b\b\b\b\b\b\b\b\b\b\b\b\b\b                             \b\b\b\b\b\b\b\b\b\b\b\b\b\b\b\b\b\b\b\b\b\b\b\b\b\b\b\b\b  4% 1 - yoochoose-clicks.dat\b\b\b\b\b\b\b\b\b\b\b\b\b\b\b\b\b\b\b\b\b\b\b\b\b\b\b\b\b                             \b\b\b\b\b\b\b\b\b\b\b\b\b\b\b\b\b\b\b\b\b\b\b\b\b\b\b\b\b  5% 1 - yoochoose-clicks.dat\b\b\b\b\b\b\b\b\b\b\b\b\b\b\b\b\b\b\b\b\b\b\b\b\b\b\b\b\b                             \b\b\b\b\b\b\b\b\b\b\b\b\b\b\b\b\b\b\b\b\b\b\b\b\b\b\b\b\b  6% 1 - yoochoose-clicks.dat\b\b\b\b\b\b\b\b\b\b\b\b\b\b\b\b\b\b\b\b\b\b\b\b\b\b\b\b\b                             \b\b\b\b\b\b\b\b\b\b\b\b\b\b\b\b\b\b\b\b\b\b\b\b\b\b\b\b\b  7% 1 - yoochoose-clicks.dat\b\b\b\b\b\b\b\b\b\b\b\b\b\b\b\b\b\b\b\b\b\b\b\b\b\b\b\b\b                             \b\b\b\b\b\b\b\b\b\b\b\b\b\b\b\b\b\b\b\b\b\b\b\b\b\b\b\b\b  8% 1 - yoochoose-clicks.dat\b\b\b\b\b\b\b\b\b\b\b\b\b\b\b\b\b\b\b\b\b\b\b\b\b\b\b\b\b                             \b\b\b\b\b\b\b\b\b\b\b\b\b\b\b\b\b\b\b\b\b\b\b\b\b\b\b\b\b  9% 1 - yoochoose-clicks.dat\b\b\b\b\b\b\b\b\b\b\b\b\b\b\b\b\b\b\b\b\b\b\b\b\b\b\b\b\b                             \b\b\b\b\b\b\b\b\b\b\b\b\b\b\b\b\b\b\b\b\b\b\b\b\b\b\b\b\b 10% 1 - yoochoose-clicks.dat\b\b\b\b\b\b\b\b\b\b\b\b\b\b\b\b\b\b\b\b\b\b\b\b\b\b\b\b\b                             \b\b\b\b\b\b\b\b\b\b\b\b\b\b\b\b\b\b\b\b\b\b\b\b\b\b\b\b\b 11% 1 - yoochoose-clicks.dat\b\b\b\b\b\b\b\b\b\b\b\b\b\b\b\b\b\b\b\b\b\b\b\b\b\b\b\b\b                             \b\b\b\b\b\b\b\b\b\b\b\b\b\b\b\b\b\b\b\b\b\b\b\b\b\b\b\b\b 12% 1 - yoochoose-clicks.dat\b\b\b\b\b\b\b\b\b\b\b\b\b\b\b\b\b\b\b\b\b\b\b\b\b\b\b\b\b                             \b\b\b\b\b\b\b\b\b\b\b\b\b\b\b\b\b\b\b\b\b\b\b\b\b\b\b\b\b 13% 1 - yoochoose-clicks.dat\b\b\b\b\b\b\b\b\b\b\b\b\b\b\b\b\b\b\b\b\b\b\b\b\b\b\b\b\b                             \b\b\b\b\b\b\b\b\b\b\b\b\b\b\b\b\b\b\b\b\b\b\b\b\b\b\b\b\b 14% 1 - yoochoose-clicks.dat\b\b\b\b\b\b\b\b\b\b\b\b\b\b\b\b\b\b\b\b\b\b\b\b\b\b\b\b\b                             \b\b\b\b\b\b\b\b\b\b\b\b\b\b\b\b\b\b\b\b\b\b\b\b\b\b\b\b\b 15% 1 - yoochoose-clicks.dat\b\b\b\b\b\b\b\b\b\b\b\b\b\b\b\b\b\b\b\b\b\b\b\b\b\b\b\b\b                             \b\b\b\b\b\b\b\b\b\b\b\b\b\b\b\b\b\b\b\b\b\b\b\b\b\b\b\b\b 16% 1 - yoochoose-clicks.dat\b\b\b\b\b\b\b\b\b\b\b\b\b\b\b\b\b\b\b\b\b\b\b\b\b\b\b\b\b                             \b\b\b\b\b\b\b\b\b\b\b\b\b\b\b\b\b\b\b\b\b\b\b\b\b\b\b\b\b 17% 1 - yoochoose-clicks.dat\b\b\b\b\b\b\b\b\b\b\b\b\b\b\b\b\b\b\b\b\b\b\b\b\b\b\b\b\b                             \b\b\b\b\b\b\b\b\b\b\b\b\b\b\b\b\b\b\b\b\b\b\b\b\b\b\b\b\b 18% 1 - yoochoose-clicks.dat\b\b\b\b\b\b\b\b\b\b\b\b\b\b\b\b\b\b\b\b\b\b\b\b\b\b\b\b\b                             \b\b\b\b\b\b\b\b\b\b\b\b\b\b\b\b\b\b\b\b\b\b\b\b\b\b\b\b\b 19% 1 - yoochoose-clicks.dat\b\b\b\b\b\b\b\b\b\b\b\b\b\b\b\b\b\b\b\b\b\b\b\b\b\b\b\b\b                             \b\b\b\b\b\b\b\b\b\b\b\b\b\b\b\b\b\b\b\b\b\b\b\b\b\b\b\b\b 20% 1 - yoochoose-clicks.dat\b\b\b\b\b\b\b\b\b\b\b\b\b\b\b\b\b\b\b\b\b\b\b\b\b\b\b\b\b                             \b\b\b\b\b\b\b\b\b\b\b\b\b\b\b\b\b\b\b\b\b\b\b\b\b\b\b\b\b 21% 1 - yoochoose-clicks.dat\b\b\b\b\b\b\b\b\b\b\b\b\b\b\b\b\b\b\b\b\b\b\b\b\b\b\b\b\b                             \b\b\b\b\b\b\b\b\b\b\b\b\b\b\b\b\b\b\b\b\b\b\b\b\b\b\b\b\b 22% 1 - yoochoose-clicks.dat\b\b\b\b\b\b\b\b\b\b\b\b\b\b\b\b\b\b\b\b\b\b\b\b\b\b\b\b\b                             \b\b\b\b\b\b\b\b\b\b\b\b\b\b\b\b\b\b\b\b\b\b\b\b\b\b\b\b\b 23% 1 - yoochoose-clicks.dat\b\b\b\b\b\b\b\b\b\b\b\b\b\b\b\b\b\b\b\b\b\b\b\b\b\b\b\b\b                             \b\b\b\b\b\b\b\b\b\b\b\b\b\b\b\b\b\b\b\b\b\b\b\b\b\b\b\b\b 24% 1 - yoochoose-clicks.dat\b\b\b\b\b\b\b\b\b\b\b\b\b\b\b\b\b\b\b\b\b\b\b\b\b\b\b\b\b                             \b\b\b\b\b\b\b\b\b\b\b\b\b\b\b\b\b\b\b\b\b\b\b\b\b\b\b\b\b 25% 1 - yoochoose-clicks.dat\b\b\b\b\b\b\b\b\b\b\b\b\b\b\b\b\b\b\b\b\b\b\b\b\b\b\b\b\b                             \b\b\b\b\b\b\b\b\b\b\b\b\b\b\b\b\b\b\b\b\b\b\b\b\b\b\b\b\b 26% 1 - yoochoose-clicks.dat\b\b\b\b\b\b\b\b\b\b\b\b\b\b\b\b\b\b\b\b\b\b\b\b\b\b\b\b\b                             \b\b\b\b\b\b\b\b\b\b\b\b\b\b\b\b\b\b\b\b\b\b\b\b\b\b\b\b\b 27% 1 - yoochoose-clicks.dat\b\b\b\b\b\b\b\b\b\b\b\b\b\b\b\b\b\b\b\b\b\b\b\b\b\b\b\b\b                             \b\b\b\b\b\b\b\b\b\b\b\b\b\b\b\b\b\b\b\b\b\b\b\b\b\b\b\b\b 28% 1 - yoochoose-clicks.dat\b\b\b\b\b\b\b\b\b\b\b\b\b\b\b\b\b\b\b\b\b\b\b\b\b\b\b\b\b                             \b\b\b\b\b\b\b\b\b\b\b\b\b\b\b\b\b\b\b\b\b\b\b\b\b\b\b\b\b 29% 1 - yoochoose-clicks.dat\b\b\b\b\b\b\b\b\b\b\b\b\b\b\b\b\b\b\b\b\b\b\b\b\b\b\b\b\b                             \b\b\b\b\b\b\b\b\b\b\b\b\b\b\b\b\b\b\b\b\b\b\b\b\b\b\b\b\b 30% 1 - yoochoose-clicks.dat\b\b\b\b\b\b\b\b\b\b\b\b\b\b\b\b\b\b\b\b\b\b\b\b\b\b\b\b\b                             \b\b\b\b\b\b\b\b\b\b\b\b\b\b\b\b\b\b\b\b\b\b\b\b\b\b\b\b\b 31% 1 - yoochoose-clicks.dat\b\b\b\b\b\b\b\b\b\b\b\b\b\b\b\b\b\b\b\b\b\b\b\b\b\b\b\b\b                             \b\b\b\b\b\b\b\b\b\b\b\b\b\b\b\b\b\b\b\b\b\b\b\b\b\b\b\b\b 32% 1 - yoochoose-clicks.dat\b\b\b\b\b\b\b\b\b\b\b\b\b\b\b\b\b\b\b\b\b\b\b\b\b\b\b\b\b                             \b\b\b\b\b\b\b\b\b\b\b\b\b\b\b\b\b\b\b\b\b\b\b\b\b\b\b\b\b 33% 1 - yoochoose-clicks.dat\b\b\b\b\b\b\b\b\b\b\b\b\b\b\b\b\b\b\b\b\b\b\b\b\b\b\b\b\b                             \b\b\b\b\b\b\b\b\b\b\b\b\b\b\b\b\b\b\b\b\b\b\b\b\b\b\b\b\b 34% 1 - yoochoose-clicks.dat\b\b\b\b\b\b\b\b\b\b\b\b\b\b\b\b\b\b\b\b\b\b\b\b\b\b\b\b\b                             \b\b\b\b\b\b\b\b\b\b\b\b\b\b\b\b\b\b\b\b\b\b\b\b\b\b\b\b\b 35% 1 - yoochoose-clicks.dat\b\b\b\b\b\b\b\b\b\b\b\b\b\b\b\b\b\b\b\b\b\b\b\b\b\b\b\b\b                             \b\b\b\b\b\b\b\b\b\b\b\b\b\b\b\b\b\b\b\b\b\b\b\b\b\b\b\b\b 36% 1 - yoochoose-clicks.dat\b\b\b\b\b\b\b\b\b\b\b\b\b\b\b\b\b\b\b\b\b\b\b\b\b\b\b\b\b                             \b\b\b\b\b\b\b\b\b\b\b\b\b\b\b\b\b\b\b\b\b\b\b\b\b\b\b\b\b 37% 1 - yoochoose-clicks.dat\b\b\b\b\b\b\b\b\b\b\b\b\b\b\b\b\b\b\b\b\b\b\b\b\b\b\b\b\b                             \b\b\b\b\b\b\b\b\b\b\b\b\b\b\b\b\b\b\b\b\b\b\b\b\b\b\b\b\b 38% 1 - yoochoose-clicks.dat\b\b\b\b\b\b\b\b\b\b\b\b\b\b\b\b\b\b\b\b\b\b\b\b\b\b\b\b\b                             \b\b\b\b\b\b\b\b\b\b\b\b\b\b\b\b\b\b\b\b\b\b\b\b\b\b\b\b\b 39% 1 - yoochoose-clicks.dat\b\b\b\b\b\b\b\b\b\b\b\b\b\b\b\b\b\b\b\b\b\b\b\b\b\b\b\b\b                             \b\b\b\b\b\b\b\b\b\b\b\b\b\b\b\b\b\b\b\b\b\b\b\b\b\b\b\b\b 40% 1 - yoochoose-clicks.dat\b\b\b\b\b\b\b\b\b\b\b\b\b\b\b\b\b\b\b\b\b\b\b\b\b\b\b\b\b                             \b\b\b\b\b\b\b\b\b\b\b\b\b\b\b\b\b\b\b\b\b\b\b\b\b\b\b\b\b 41% 1 - yoochoose-clicks.dat\b\b\b\b\b\b\b\b\b\b\b\b\b\b\b\b\b\b\b\b\b\b\b\b\b\b\b\b\b                             \b\b\b\b\b\b\b\b\b\b\b\b\b\b\b\b\b\b\b\b\b\b\b\b\b\b\b\b\b 42% 1 - yoochoose-clicks.dat\b\b\b\b\b\b\b\b\b\b\b\b\b\b\b\b\b\b\b\b\b\b\b\b\b\b\b\b\b                             \b\b\b\b\b\b\b\b\b\b\b\b\b\b\b\b\b\b\b\b\b\b\b\b\b\b\b\b\b 43% 1 - yoochoose-clicks.dat\b\b\b\b\b\b\b\b\b\b\b\b\b\b\b\b\b\b\b\b\b\b\b\b\b\b\b\b\b                             \b\b\b\b\b\b\b\b\b\b\b\b\b\b\b\b\b\b\b\b\b\b\b\b\b\b\b\b\b 44% 1 - yoochoose-clicks.dat\b\b\b\b\b\b\b\b\b\b\b\b\b\b\b\b\b\b\b\b\b\b\b\b\b\b\b\b\b                             \b\b\b\b\b\b\b\b\b\b\b\b\b\b\b\b\b\b\b\b\b\b\b\b\b\b\b\b\b 45% 1 - yoochoose-clicks.dat\b\b\b\b\b\b\b\b\b\b\b\b\b\b\b\b\b\b\b\b\b\b\b\b\b\b\b\b\b                             \b\b\b\b\b\b\b\b\b\b\b\b\b\b\b\b\b\b\b\b\b\b\b\b\b\b\b\b\b 46% 1 - yoochoose-clicks.dat\b\b\b\b\b\b\b\b\b\b\b\b\b\b\b\b\b\b\b\b\b\b\b\b\b\b\b\b\b                             \b\b\b\b\b\b\b\b\b\b\b\b\b\b\b\b\b\b\b\b\b\b\b\b\b\b\b\b\b 47% 1 - yoochoose-clicks.dat\b\b\b\b\b\b\b\b\b\b\b\b\b\b\b\b\b\b\b\b\b\b\b\b\b\b\b\b\b                             \b\b\b\b\b\b\b\b\b\b\b\b\b\b\b\b\b\b\b\b\b\b\b\b\b\b\b\b\b 48% 1 - yoochoose-clicks.dat\b\b\b\b\b\b\b\b\b\b\b\b\b\b\b\b\b\b\b\b\b\b\b\b\b\b\b\b\b                             \b\b\b\b\b\b\b\b\b\b\b\b\b\b\b\b\b\b\b\b\b\b\b\b\b\b\b\b\b 49% 1 - yoochoose-clicks.dat\b\b\b\b\b\b\b\b\b\b\b\b\b\b\b\b\b\b\b\b\b\b\b\b\b\b\b\b\b                             \b\b\b\b\b\b\b\b\b\b\b\b\b\b\b\b\b\b\b\b\b\b\b\b\b\b\b\b\b 50% 1 - yoochoose-clicks.dat\b\b\b\b\b\b\b\b\b\b\b\b\b\b\b\b\b\b\b\b\b\b\b\b\b\b\b\b\b                             \b\b\b\b\b\b\b\b\b\b\b\b\b\b\b\b\b\b\b\b\b\b\b\b\b\b\b\b\b 51% 1 - yoochoose-clicks.dat\b\b\b\b\b\b\b\b\b\b\b\b\b\b\b\b\b\b\b\b\b\b\b\b\b\b\b\b\b                             \b\b\b\b\b\b\b\b\b\b\b\b\b\b\b\b\b\b\b\b\b\b\b\b\b\b\b\b\b 52% 1 - yoochoose-clicks.dat\b\b\b\b\b\b\b\b\b\b\b\b\b\b\b\b\b\b\b\b\b\b\b\b\b\b\b\b\b                             \b\b\b\b\b\b\b\b\b\b\b\b\b\b\b\b\b\b\b\b\b\b\b\b\b\b\b\b\b 53% 1 - yoochoose-clicks.dat\b\b\b\b\b\b\b\b\b\b\b\b\b\b\b\b\b\b\b\b\b\b\b\b\b\b\b\b\b                             \b\b\b\b\b\b\b\b\b\b\b\b\b\b\b\b\b\b\b\b\b\b\b\b\b\b\b\b\b 54% 1 - yoochoose-clicks.dat\b\b\b\b\b\b\b\b\b\b\b\b\b\b\b\b\b\b\b\b\b\b\b\b\b\b\b\b\b                             \b\b\b\b\b\b\b\b\b\b\b\b\b\b\b\b\b\b\b\b\b\b\b\b\b\b\b\b\b 55% 1 - yoochoose-clicks.dat\b\b\b\b\b\b\b\b\b\b\b\b\b\b\b\b\b\b\b\b\b\b\b\b\b\b\b\b\b                             \b\b\b\b\b\b\b\b\b\b\b\b\b\b\b\b\b\b\b\b\b\b\b\b\b\b\b\b\b 56% 1 - yoochoose-clicks.dat\b\b\b\b\b\b\b\b\b\b\b\b\b\b\b\b\b\b\b\b\b\b\b\b\b\b\b\b\b                             \b\b\b\b\b\b\b\b\b\b\b\b\b\b\b\b\b\b\b\b\b\b\b\b\b\b\b\b\b 57% 1 - yoochoose-clicks.dat\b\b\b\b\b\b\b\b\b\b\b\b\b\b\b\b\b\b\b\b\b\b\b\b\b\b\b\b\b                             \b\b\b\b\b\b\b\b\b\b\b\b\b\b\b\b\b\b\b\b\b\b\b\b\b\b\b\b\b 58% 1 - yoochoose-clicks.dat\b\b\b\b\b\b\b\b\b\b\b\b\b\b\b\b\b\b\b\b\b\b\b\b\b\b\b\b\b                             \b\b\b\b\b\b\b\b\b\b\b\b\b\b\b\b\b\b\b\b\b\b\b\b\b\b\b\b\b 59% 1 - yoochoose-clicks.dat\b\b\b\b\b\b\b\b\b\b\b\b\b\b\b\b\b\b\b\b\b\b\b\b\b\b\b\b\b                             \b\b\b\b\b\b\b\b\b\b\b\b\b\b\b\b\b\b\b\b\b\b\b\b\b\b\b\b\b 60% 1 - yoochoose-clicks.dat\b\b\b\b\b\b\b\b\b\b\b\b\b\b\b\b\b\b\b\b\b\b\b\b\b\b\b\b\b                             \b\b\b\b\b\b\b\b\b\b\b\b\b\b\b\b\b\b\b\b\b\b\b\b\b\b\b\b\b 61% 1 - yoochoose-clicks.dat\b\b\b\b\b\b\b\b\b\b\b\b\b\b\b\b\b\b\b\b\b\b\b\b\b\b\b\b\b                             \b\b\b\b\b\b\b\b\b\b\b\b\b\b\b\b\b\b\b\b\b\b\b\b\b\b\b\b\b 62% 1 - yoochoose-clicks.dat\b\b\b\b\b\b\b\b\b\b\b\b\b\b\b\b\b\b\b\b\b\b\b\b\b\b\b\b\b                             \b\b\b\b\b\b\b\b\b\b\b\b\b\b\b\b\b\b\b\b\b\b\b\b\b\b\b\b\b 63% 1 - yoochoose-clicks.dat\b\b\b\b\b\b\b\b\b\b\b\b\b\b\b\b\b\b\b\b\b\b\b\b\b\b\b\b\b                             \b\b\b\b\b\b\b\b\b\b\b\b\b\b\b\b\b\b\b\b\b\b\b\b\b\b\b\b\b 64% 1 - yoochoose-clicks.dat\b\b\b\b\b\b\b\b\b\b\b\b\b\b\b\b\b\b\b\b\b\b\b\b\b\b\b\b\b                             \b\b\b\b\b\b\b\b\b\b\b\b\b\b\b\b\b\b\b\b\b\b\b\b\b\b\b\b\b 65% 1 - yoochoose-clicks.dat\b\b\b\b\b\b\b\b\b\b\b\b\b\b\b\b\b\b\b\b\b\b\b\b\b\b\b\b\b                             \b\b\b\b\b\b\b\b\b\b\b\b\b\b\b\b\b\b\b\b\b\b\b\b\b\b\b\b\b 66% 1 - yoochoose-clicks.dat\b\b\b\b\b\b\b\b\b\b\b\b\b\b\b\b\b\b\b\b\b\b\b\b\b\b\b\b\b                             \b\b\b\b\b\b\b\b\b\b\b\b\b\b\b\b\b\b\b\b\b\b\b\b\b\b\b\b\b 67% 1 - yoochoose-clicks.dat\b\b\b\b\b\b\b\b\b\b\b\b\b\b\b\b\b\b\b\b\b\b\b\b\b\b\b\b\b                             \b\b\b\b\b\b\b\b\b\b\b\b\b\b\b\b\b\b\b\b\b\b\b\b\b\b\b\b\b 68% 1 - yoochoose-clicks.dat\b\b\b\b\b\b\b\b\b\b\b\b\b\b\b\b\b\b\b\b\b\b\b\b\b\b\b\b\b                             \b\b\b\b\b\b\b\b\b\b\b\b\b\b\b\b\b\b\b\b\b\b\b\b\b\b\b\b\b 69% 1 - yoochoose-clicks.dat\b\b\b\b\b\b\b\b\b\b\b\b\b\b\b\b\b\b\b\b\b\b\b\b\b\b\b\b\b                             \b\b\b\b\b\b\b\b\b\b\b\b\b\b\b\b\b\b\b\b\b\b\b\b\b\b\b\b\b 70% 1 - yoochoose-clicks.dat\b\b\b\b\b\b\b\b\b\b\b\b\b\b\b\b\b\b\b\b\b\b\b\b\b\b\b\b\b                             \b\b\b\b\b\b\b\b\b\b\b\b\b\b\b\b\b\b\b\b\b\b\b\b\b\b\b\b\b 71% 1 - yoochoose-clicks.dat\b\b\b\b\b\b\b\b\b\b\b\b\b\b\b\b\b\b\b\b\b\b\b\b\b\b\b\b\b                             \b\b\b\b\b\b\b\b\b\b\b\b\b\b\b\b\b\b\b\b\b\b\b\b\b\b\b\b\b 72% 1 - yoochoose-clicks.dat\b\b\b\b\b\b\b\b\b\b\b\b\b\b\b\b\b\b\b\b\b\b\b\b\b\b\b\b\b                             \b\b\b\b\b\b\b\b\b\b\b\b\b\b\b\b\b\b\b\b\b\b\b\b\b\b\b\b\b 73% 1 - yoochoose-clicks.dat\b\b\b\b\b\b\b\b\b\b\b\b\b\b\b\b\b\b\b\b\b\b\b\b\b\b\b\b\b                             \b\b\b\b\b\b\b\b\b\b\b\b\b\b\b\b\b\b\b\b\b\b\b\b\b\b\b\b\b 74% 1 - yoochoose-clicks.dat\b\b\b\b\b\b\b\b\b\b\b\b\b\b\b\b\b\b\b\b\b\b\b\b\b\b\b\b\b                             \b\b\b\b\b\b\b\b\b\b\b\b\b\b\b\b\b\b\b\b\b\b\b\b\b\b\b\b\b 75% 1 - yoochoose-clicks.dat\b\b\b\b\b\b\b\b\b\b\b\b\b\b\b\b\b\b\b\b\b\b\b\b\b\b\b\b\b                             \b\b\b\b\b\b\b\b\b\b\b\b\b\b\b\b\b\b\b\b\b\b\b\b\b\b\b\b\b 76% 1 - yoochoose-clicks.dat\b\b\b\b\b\b\b\b\b\b\b\b\b\b\b\b\b\b\b\b\b\b\b\b\b\b\b\b\b                             \b\b\b\b\b\b\b\b\b\b\b\b\b\b\b\b\b\b\b\b\b\b\b\b\b\b\b\b\b 77% 1 - yoochoose-clicks.dat\b\b\b\b\b\b\b\b\b\b\b\b\b\b\b\b\b\b\b\b\b\b\b\b\b\b\b\b\b                             \b\b\b\b\b\b\b\b\b\b\b\b\b\b\b\b\b\b\b\b\b\b\b\b\b\b\b\b\b 78% 1 - yoochoose-clicks.dat\b\b\b\b\b\b\b\b\b\b\b\b\b\b\b\b\b\b\b\b\b\b\b\b\b\b\b\b\b                             \b\b\b\b\b\b\b\b\b\b\b\b\b\b\b\b\b\b\b\b\b\b\b\b\b\b\b\b\b 79% 1 - yoochoose-clicks.dat\b\b\b\b\b\b\b\b\b\b\b\b\b\b\b\b\b\b\b\b\b\b\b\b\b\b\b\b\b                             \b\b\b\b\b\b\b\b\b\b\b\b\b\b\b\b\b\b\b\b\b\b\b\b\b\b\b\b\b 80% 1 - yoochoose-clicks.dat\b\b\b\b\b\b\b\b\b\b\b\b\b\b\b\b\b\b\b\b\b\b\b\b\b\b\b\b\b                             \b\b\b\b\b\b\b\b\b\b\b\b\b\b\b\b\b\b\b\b\b\b\b\b\b\b\b\b\b 80% 2 - yoochoose-test.dat\b\b\b\b\b\b\b\b\b\b\b\b\b\b\b\b\b\b\b\b\b\b\b\b\b\b\b                           \b\b\b\b\b\b\b\b\b\b\b\b\b\b\b\b\b\b\b\b\b\b\b\b\b\b\b 81% 2 - yoochoose-test.dat\b\b\b\b\b\b\b\b\b\b\b\b\b\b\b\b\b\b\b\b\b\b\b\b\b\b\b                           \b\b\b\b\b\b\b\b\b\b\b\b\b\b\b\b\b\b\b\b\b\b\b\b\b\b\b 82% 2 - yoochoose-test.dat\b\b\b\b\b\b\b\b\b\b\b\b\b\b\b\b\b\b\b\b\b\b\b\b\b\b\b                           \b\b\b\b\b\b\b\b\b\b\b\b\b\b\b\b\b\b\b\b\b\b\b\b\b\b\b 83% 2 - yoochoose-test.dat\b\b\b\b\b\b\b\b\b\b\b\b\b\b\b\b\b\b\b\b\b\b\b\b\b\b\b                           \b\b\b\b\b\b\b\b\b\b\b\b\b\b\b\b\b\b\b\b\b\b\b\b\b\b\b 84% 2 - yoochoose-test.dat\b\b\b\b\b\b\b\b\b\b\b\b\b\b\b\b\b\b\b\b\b\b\b\b\b\b\b                           \b\b\b\b\b\b\b\b\b\b\b\b\b\b\b\b\b\b\b\b\b\b\b\b\b\b\b 85% 2 - yoochoose-test.dat\b\b\b\b\b\b\b\b\b\b\b\b\b\b\b\b\b\b\b\b\b\b\b\b\b\b\b                           \b\b\b\b\b\b\b\b\b\b\b\b\b\b\b\b\b\b\b\b\b\b\b\b\b\b\b 86% 2 - yoochoose-test.dat\b\b\b\b\b\b\b\b\b\b\b\b\b\b\b\b\b\b\b\b\b\b\b\b\b\b\b                           \b\b\b\b\b\b\b\b\b\b\b\b\b\b\b\b\b\b\b\b\b\b\b\b\b\b\b 87% 2 - yoochoose-test.dat\b\b\b\b\b\b\b\b\b\b\b\b\b\b\b\b\b\b\b\b\b\b\b\b\b\b\b                           \b\b\b\b\b\b\b\b\b\b\b\b\b\b\b\b\b\b\b\b\b\b\b\b\b\b\b 88% 2 - yoochoose-test.dat\b\b\b\b\b\b\b\b\b\b\b\b\b\b\b\b\b\b\b\b\b\b\b\b\b\b\b                           \b\b\b\b\b\b\b\b\b\b\b\b\b\b\b\b\b\b\b\b\b\b\b\b\b\b\b 89% 2 - yoochoose-test.dat\b\b\b\b\b\b\b\b\b\b\b\b\b\b\b\b\b\b\b\b\b\b\b\b\b\b\b                           \b\b\b\b\b\b\b\b\b\b\b\b\b\b\b\b\b\b\b\b\b\b\b\b\b\b\b 90% 2 - yoochoose-test.dat\b\b\b\b\b\b\b\b\b\b\b\b\b\b\b\b\b\b\b\b\b\b\b\b\b\b\b                           \b\b\b\b\b\b\b\b\b\b\b\b\b\b\b\b\b\b\b\b\b\b\b\b\b\b\b 91% 2 - yoochoose-test.dat\b\b\b\b\b\b\b\b\b\b\b\b\b\b\b\b\b\b\b\b\b\b\b\b\b\b\b                           \b\b\b\b\b\b\b\b\b\b\b\b\b\b\b\b\b\b\b\b\b\b\b\b\b\b\b 92% 2 - yoochoose-test.dat\b\b\b\b\b\b\b\b\b\b\b\b\b\b\b\b\b\b\b\b\b\b\b\b\b\b\b                           \b\b\b\b\b\b\b\b\b\b\b\b\b\b\b\b\b\b\b\b\b\b\b\b\b\b\b 93% 2 - yoochoose-test.dat\b\b\b\b\b\b\b\b\b\b\b\b\b\b\b\b\b\b\b\b\b\b\b\b\b\b\b                           \b\b\b\b\b\b\b\b\b\b\b\b\b\b\b\b\b\b\b\b\b\b\b\b\b\b\b 94% 2 - yoochoose-test.dat\b\b\b\b\b\b\b\b\b\b\b\b\b\b\b\b\b\b\b\b\b\b\b\b\b\b\b                           \b\b\b\b\b\b\b\b\b\b\b\b\b\b\b\b\b\b\b\b\b\b\b\b\b\b\b 95% 2 - yoochoose-test.dat\b\b\b\b\b\b\b\b\b\b\b\b\b\b\b\b\b\b\b\b\b\b\b\b\b\b\b                           \b\b\b\b\b\b\b\b\b\b\b\b\b\b\b\b\b\b\b\b\b\b\b\b\b\b\b 96% 2 - yoochoose-test.dat\b\b\b\b\b\b\b\b\b\b\b\b\b\b\b\b\b\b\b\b\b\b\b\b\b\b\b                           \b\b\b\b\b\b\b\b\b\b\b\b\b\b\b\b\b\b\b\b\b\b\b\b\b\b\b 97% 2 - yoochoose-test.dat\b\b\b\b\b\b\b\b\b\b\b\b\b\b\b\b\b\b\b\b\b\b\b\b\b\b\b                           \b\b\b\b\b\b\b\b\b\b\b\b\b\b\b\b\b\b\b\b\b\b\b\b\b\b\b 98% 2 - yoochoose-test.dat\b\b\b\b\b\b\b\b\b\b\b\b\b\b\b\b\b\b\b\b\b\b\b\b\b\b\b                           \b\b\b\b\b\b\b\b\b\b\b\b\b\b\b\b\b\b\b\b\b\b\b\b\b\b\b 99% 2 - yoochoose-test.dat\b\b\b\b\b\b\b\b\b\b\b\b\b\b\b\b\b\b\b\b\b\b\b\b\b\b\b                           \b\b\b\b\b\b\b\b\b\b\b\b\b\b\b\b\b\b\b\b\b\b\b\b\b\b\b 99% 3\b\b\b\b\b\b      \b\b\b\b\b\bEverything is Ok\n",
            "\n",
            "Files: 4\n",
            "Size:       1914111754\n",
            "Compressed: 287211932\n"
          ]
        }
      ]
    },
    {
      "cell_type": "markdown",
      "metadata": {
        "id": "gpjJOcqDR945"
      },
      "source": [
        "# Preprocesar dataset"
      ]
    },
    {
      "cell_type": "code",
      "metadata": {
        "id": "7E3mSmYQR9k-"
      },
      "source": [
        "import os\n",
        "import numpy as np\n",
        "import pandas as pd\n",
        "import datetime as dt\n",
        "from matplotlib import pyplot as plt\n",
        "os.environ['TF_CPP_MIN_LOG_LEVEL'] = '3'"
      ],
      "execution_count": 4,
      "outputs": []
    },
    {
      "cell_type": "code",
      "metadata": {
        "id": "WwNyFUAHRssj"
      },
      "source": [
        "src_path = './rsc15/'\n",
        "dst_path   = './data/'"
      ],
      "execution_count": 5,
      "outputs": []
    },
    {
      "cell_type": "code",
      "metadata": {
        "id": "om43PXTNSoLu"
      },
      "source": [
        "def process(src_path, dst_path):\n",
        "  data = pd.read_csv(src_path + 'yoochoose-clicks.dat', sep=',', header=None, usecols=[0,1,2], dtype={0:np.int32, 1:str, 2:np.int64})\n",
        "  data.columns = ['SessionId', 'TimeStr', 'ItemId']\n",
        "\n",
        "  # Add timestamp\n",
        "  data['Time'] = data.TimeStr.apply(lambda x: dt.datetime.strptime(x, '%Y-%m-%dT%H:%M:%S.%fZ').timestamp())\n",
        "  del(data['TimeStr'])\n",
        "\n",
        "  # Filter by session size > 1\n",
        "  session_lengths = data.groupby('SessionId').size()  \n",
        "  data = data[np.in1d(data.SessionId, session_lengths[session_lengths>1].index)]\n",
        "  \n",
        "  # Filter by \"known\" (appears >= 5) items\n",
        "  item_supports = data.groupby('ItemId').size()\n",
        "  data = data[np.in1d(data.ItemId, item_supports[item_supports>=5].index)]\n",
        "  \n",
        "  # Filter by session size > 2\n",
        "  session_lengths = data.groupby('SessionId').size()\n",
        "  data = data[np.in1d(data.SessionId, session_lengths[session_lengths>=2].index)]\n",
        "\n",
        "  # Test split is entire last day\n",
        "  tmax = data.Time.max()\n",
        "  session_max_times = data.groupby('SessionId').Time.max()\n",
        "  \n",
        "  session_train = session_max_times[session_max_times < tmax-86400].index\n",
        "  train = data[np.in1d(data.SessionId, session_train)]\n",
        "  \n",
        "  session_test = session_max_times[session_max_times >= tmax-86400].index\n",
        "  test = data[np.in1d(data.SessionId, session_test)]\n",
        "  test = test[np.in1d(test.ItemId, train.ItemId)]\n",
        "  tslength = test.groupby('SessionId').size()\n",
        "  test = test[np.in1d(test.SessionId, tslength[tslength>=2].index)]\n",
        "  print('Test set\\n\\tEvents: {}\\n\\tSessions: {}\\n\\tItems: {}'.format(len(test), test.SessionId.nunique(), test.ItemId.nunique()))\n",
        "  test.to_csv(dst_path + 'test.tsv', sep='\\t', index=False)\n",
        "\n",
        "  # Validation: second to last day. Train: remainder\n",
        "  tmax = train.Time.max()\n",
        "  session_max_times = train.groupby('SessionId').Time.max()\n",
        "  session_train = session_max_times[session_max_times < tmax-86400].index\n",
        "  session_valid = session_max_times[session_max_times >= tmax-86400].index\n",
        "\n",
        "  train_tr = train[np.in1d(train.SessionId, session_train)]\n",
        "  valid = train[np.in1d(train.SessionId, session_valid)]\n",
        "  valid = valid[np.in1d(valid.ItemId, train_tr.ItemId)]\n",
        "  tslength = valid.groupby('SessionId').size()\n",
        "  valid = valid[np.in1d(valid.SessionId, tslength[tslength>=2].index)]\n",
        "  print('Validation set\\n\\tEvents: {}\\n\\tSessions: {}\\n\\tItems: {}'.format(len(valid), valid.SessionId.nunique(), valid.ItemId.nunique()))\n",
        "  valid.to_csv(dst_path + 'validation.tsv', sep='\\t', index=False)\n",
        "  \n",
        "  \n",
        "  print('Train set\\n\\tEvents: {}\\n\\tSessions: {}\\n\\tItems: {}'.format(len(train_tr), train_tr.SessionId.nunique(), train_tr.ItemId.nunique()))\n",
        "  train_tr.to_csv(dst_path + 'train.tsv', sep='\\t', index=False)\n"
      ],
      "execution_count": 6,
      "outputs": []
    },
    {
      "cell_type": "code",
      "metadata": {
        "id": "nc6wy4phS1v2",
        "colab": {
          "base_uri": "https://localhost:8080/"
        },
        "outputId": "b362fc1e-8e55-45cf-873e-3c5fdc3077b6"
      },
      "source": [
        "process(src_path, dst_path)  # Takes ~10 minutes"
      ],
      "execution_count": 7,
      "outputs": [
        {
          "output_type": "stream",
          "name": "stdout",
          "text": [
            "Test set\n",
            "\tEvents: 71222\n",
            "\tSessions: 15324\n",
            "\tItems: 6751\n",
            "Validation set\n",
            "\tEvents: 58233\n",
            "\tSessions: 12372\n",
            "\tItems: 6359\n",
            "Train set\n",
            "\tEvents: 31579006\n",
            "\tSessions: 7953885\n",
            "\tItems: 37483\n"
          ]
        }
      ]
    },
    {
      "cell_type": "code",
      "metadata": {
        "id": "kx_HdipUDS2z"
      },
      "source": [
        "def train_fraction(df, fraction, prefix=\"train\", path=\"./data/\"):\n",
        "    \n",
        "    length = len(df['ItemId'])\n",
        "    first_session = df.iloc[length - length//fraction].SessionId\n",
        "    df = df.loc[df['SessionId'] >= first_session]\n",
        "    itemids = df['ItemId'].unique()\n",
        "    n_items = len(itemids)\n",
        "\n",
        "    print('Fractioned data set\\n\\tEvents: {}\\n\\tSessions: {}\\n\\tItems: {}'.format(len(df), df.SessionId.nunique(), df.ItemId.nunique()))\n",
        "    filename = path + '{}_{}.tsv'.format(prefix, fraction)\n",
        "    df.to_csv(filename, sep='\\t', index=False)\n",
        "    print(\"Saved as {}\".format(filename))"
      ],
      "execution_count": 8,
      "outputs": []
    },
    {
      "cell_type": "code",
      "metadata": {
        "id": "4r1tWG1gh7eX",
        "colab": {
          "base_uri": "https://localhost:8080/"
        },
        "outputId": "14618e6c-6ba0-4d08-c163-4657ce9dc60e"
      },
      "source": [
        "# Obtain most recent 1/nth fraction of train for demo purposes\n",
        "fraction = 64\n",
        "train = pd.read_csv(dst_path + 'train.tsv', sep='\\t', dtype={'ItemId':np.int64})\n",
        "train_fraction(train, fraction)\n"
      ],
      "execution_count": 9,
      "outputs": [
        {
          "output_type": "stream",
          "name": "stdout",
          "text": [
            "Fractioned data set\n",
            "\tEvents: 71391\n",
            "\tSessions: 17450\n",
            "\tItems: 8724\n",
            "Saved as ./data/train_64.tsv\n"
          ]
        }
      ]
    },
    {
      "cell_type": "markdown",
      "metadata": {
        "id": "ZWgvazVufHs6"
      },
      "source": [
        "# Entrenamiento"
      ]
    },
    {
      "cell_type": "code",
      "metadata": {
        "id": "PSPwVh4AS_GW",
        "colab": {
          "base_uri": "https://localhost:8080/"
        },
        "outputId": "d5207a9c-fd13-499d-e99e-34e50fa467eb"
      },
      "source": [
        "!python src/model/gru4rec.py --epochs 200 --train-path ./data/train_64.tsv --dev-path ./data/validation.tsv --test-path ./data/test.tsv"
      ],
      "execution_count": 10,
      "outputs": [
        {
          "output_type": "stream",
          "name": "stdout",
          "text": [
            "/usr/local/lib/python3.7/dist-packages/keras/optimizer_v2/optimizer_v2.py:356: UserWarning: The `lr` argument is deprecated, use `learning_rate` instead.\n",
            "  \"The `lr` argument is deprecated, use `learning_rate` instead.\")\n",
            "Model: \"model\"\n",
            "_________________________________________________________________\n",
            "Layer (type)                 Output Shape              Param #   \n",
            "=================================================================\n",
            "input_1 (InputLayer)         [(512, 1, 8725)]          0         \n",
            "_________________________________________________________________\n",
            "GRU (GRU)                    [(512, 100), (512, 100)]  2648100   \n",
            "_________________________________________________________________\n",
            "dropout (Dropout)            (512, 100)                0         \n",
            "_________________________________________________________________\n",
            "dense (Dense)                (512, 8725)               881225    \n",
            "=================================================================\n",
            "Total params: 3,529,325\n",
            "Trainable params: 3,529,325\n",
            "Non-trainable params: 0\n",
            "_________________________________________________________________\n",
            "Epoch 1. Loss: 8.33436:  97% 16929/17451 [00:14<00:00, 1179.79it/s]\n",
            "Epoch 2. Loss: 7.86550:  97% 16929/17451 [00:08<00:00, 2106.25it/s]\n",
            "Epoch 3. Loss: 7.57890:  97% 16929/17451 [00:08<00:00, 2104.32it/s]\n",
            "Epoch 4. Loss: 7.36805:  97% 16929/17451 [00:08<00:00, 2095.33it/s]\n",
            "Epoch 5. Loss: 7.24533:  97% 16929/17451 [00:08<00:00, 2086.20it/s]\n",
            "Epoch 6. Loss: 7.12692:  97% 16929/17451 [00:08<00:00, 2083.24it/s]\n",
            "Epoch 7. Loss: 6.95567:  97% 16929/17451 [00:08<00:00, 2084.66it/s]\n",
            "Epoch 8. Loss: 6.77787:  97% 16929/17451 [00:08<00:00, 2110.78it/s]\n",
            "Epoch 9. Loss: 6.59202:  97% 16929/17451 [00:08<00:00, 2100.28it/s]\n",
            "Epoch 10. Loss: 6.41990:  97% 16929/17451 [00:08<00:00, 2086.56it/s]\n",
            "Epoch 11. Loss: 6.20963:  97% 16929/17451 [00:08<00:00, 2087.43it/s]\n",
            "Epoch 12. Loss: 6.01137:  97% 16929/17451 [00:08<00:00, 2087.63it/s]\n",
            "Epoch 13. Loss: 5.85108:  97% 16929/17451 [00:08<00:00, 2111.42it/s]\n",
            "Epoch 14. Loss: 5.68402:  97% 16929/17451 [00:08<00:00, 2092.18it/s]\n",
            "Epoch 15. Loss: 5.52929:  97% 16929/17451 [00:08<00:00, 2113.61it/s]\n",
            "Epoch 16. Loss: 5.39089:  97% 16929/17451 [00:08<00:00, 2095.28it/s]\n",
            "Epoch 17. Loss: 5.27333:  97% 16929/17451 [00:08<00:00, 2105.24it/s]\n",
            "Epoch 18. Loss: 5.10119:  97% 16929/17451 [00:08<00:00, 2105.67it/s]\n",
            "Epoch 19. Loss: 4.98811:  97% 16929/17451 [00:08<00:00, 2092.75it/s]\n",
            "Epoch 20. Loss: 4.81888:  97% 16929/17451 [00:08<00:00, 2090.03it/s]\n",
            "Epoch 21. Loss: 4.67536:  97% 16929/17451 [00:08<00:00, 2099.37it/s]\n",
            "Epoch 22. Loss: 4.62041:  97% 16929/17451 [00:07<00:00, 2123.34it/s]\n",
            "Epoch 23. Loss: 4.46963:  97% 16929/17451 [00:08<00:00, 2099.90it/s]\n",
            "Epoch 24. Loss: 4.34720:  97% 16929/17451 [00:08<00:00, 2091.35it/s]\n",
            "Epoch 25. Loss: 4.23670:  97% 16929/17451 [00:08<00:00, 2097.12it/s]\n",
            "Epoch 26. Loss: 4.13475:  97% 16929/17451 [00:08<00:00, 2097.24it/s]\n",
            "Epoch 27. Loss: 4.03479:  97% 16929/17451 [00:08<00:00, 2100.17it/s]\n",
            "Epoch 28. Loss: 3.95387:  97% 16929/17451 [00:08<00:00, 2088.75it/s]\n",
            "Epoch 29. Loss: 3.81149:  97% 16929/17451 [00:08<00:00, 2089.39it/s]\n",
            "Epoch 30. Loss: 3.71318:  97% 16929/17451 [00:08<00:00, 2104.84it/s]\n",
            "Epoch 31. Loss: 3.61084:  97% 16929/17451 [00:07<00:00, 2116.89it/s]\n",
            "Epoch 32. Loss: 3.58889:  97% 16929/17451 [00:08<00:00, 2096.75it/s]\n",
            "Epoch 33. Loss: 3.45647:  97% 16929/17451 [00:08<00:00, 2111.73it/s]\n",
            "Epoch 34. Loss: 3.39753:  97% 16929/17451 [00:08<00:00, 2107.37it/s]\n",
            "Epoch 35. Loss: 3.34817:  97% 16929/17451 [00:08<00:00, 2099.12it/s]\n",
            "Epoch 36. Loss: 3.21212:  97% 16929/17451 [00:07<00:00, 2116.13it/s]\n",
            "Epoch 37. Loss: 3.18022:  97% 16929/17451 [00:08<00:00, 2103.41it/s]\n",
            "Epoch 38. Loss: 3.05286:  97% 16929/17451 [00:08<00:00, 2110.80it/s]\n",
            "Epoch 39. Loss: 3.01486:  97% 16929/17451 [00:07<00:00, 2127.10it/s]\n",
            "Epoch 40. Loss: 2.97400:  97% 16929/17451 [00:08<00:00, 2103.75it/s]\n",
            "Epoch 41. Loss: 2.92452:  97% 16929/17451 [00:07<00:00, 2123.08it/s]\n",
            "Epoch 42. Loss: 2.85248:  97% 16929/17451 [00:08<00:00, 2111.45it/s]\n",
            "Epoch 43. Loss: 2.82190:  97% 16929/17451 [00:08<00:00, 2094.87it/s]\n",
            "Epoch 44. Loss: 2.76407:  97% 16929/17451 [00:08<00:00, 2096.27it/s]\n",
            "Epoch 45. Loss: 2.72615:  97% 16929/17451 [00:08<00:00, 2101.35it/s]\n",
            "Epoch 46. Loss: 2.65241:  97% 16929/17451 [00:07<00:00, 2130.90it/s]\n",
            "Epoch 47. Loss: 2.62380:  97% 16929/17451 [00:08<00:00, 2112.37it/s]\n",
            "Epoch 48. Loss: 2.60389:  97% 16929/17451 [00:08<00:00, 2107.39it/s]\n",
            "Epoch 49. Loss: 2.54252:  97% 16929/17451 [00:08<00:00, 2107.22it/s]\n",
            "Epoch 50. Loss: 2.55874:  97% 16929/17451 [00:07<00:00, 2121.36it/s]\n",
            "Epoch 51. Loss: 2.49808:  97% 16929/17451 [00:08<00:00, 2103.52it/s]\n",
            "Epoch 52. Loss: 2.49113:  97% 16929/17451 [00:07<00:00, 2120.56it/s]\n",
            "Epoch 53. Loss: 2.43151:  97% 16929/17451 [00:08<00:00, 2105.38it/s]\n",
            "Epoch 54. Loss: 2.47105:  97% 16929/17451 [00:07<00:00, 2121.15it/s]\n",
            "Epoch 55. Loss: 2.35155:  97% 16929/17451 [00:07<00:00, 2121.92it/s]\n",
            "Epoch 56. Loss: 2.37000:  97% 16929/17451 [00:07<00:00, 2136.79it/s]\n",
            "Epoch 57. Loss: 2.32243:  97% 16929/17451 [00:07<00:00, 2126.69it/s]\n",
            "Epoch 58. Loss: 2.37939:  97% 16929/17451 [00:08<00:00, 2107.30it/s]\n",
            "Epoch 59. Loss: 2.31371:  97% 16929/17451 [00:07<00:00, 2124.89it/s]\n",
            "Epoch 60. Loss: 2.29601:  97% 16929/17451 [00:07<00:00, 2120.99it/s]\n",
            "Epoch 61. Loss: 2.27438:  97% 16929/17451 [00:07<00:00, 2135.18it/s]\n",
            "Epoch 62. Loss: 2.28092:  97% 16929/17451 [00:08<00:00, 2106.99it/s]\n",
            "Epoch 63. Loss: 2.25310:  97% 16929/17451 [00:08<00:00, 2099.87it/s]\n",
            "Epoch 64. Loss: 2.22948:  97% 16929/17451 [00:08<00:00, 2113.89it/s]\n",
            "Epoch 65. Loss: 2.21721:  97% 16929/17451 [00:08<00:00, 2109.08it/s]\n",
            "Epoch 66. Loss: 2.23729:  97% 16929/17451 [00:08<00:00, 2098.55it/s]\n",
            "Epoch 67. Loss: 2.21379:  97% 16929/17451 [00:08<00:00, 2084.68it/s]\n",
            "Epoch 68. Loss: 2.19639:  97% 16929/17451 [00:08<00:00, 2096.82it/s]\n",
            "Epoch 69. Loss: 2.16418:  97% 16929/17451 [00:08<00:00, 2071.19it/s]\n",
            "Epoch 70. Loss: 2.18021:  97% 16929/17451 [00:08<00:00, 2079.06it/s]\n",
            "Epoch 71. Loss: 2.16658:  97% 16929/17451 [00:08<00:00, 2073.20it/s]\n",
            "Epoch 72. Loss: 2.12291:  97% 16929/17451 [00:08<00:00, 2083.03it/s]\n",
            "Epoch 73. Loss: 2.15616:  97% 16929/17451 [00:08<00:00, 2083.63it/s]\n",
            "Epoch 74. Loss: 2.15002:  97% 16929/17451 [00:08<00:00, 2082.64it/s]\n",
            "Epoch 75. Loss: 2.14296:  97% 16929/17451 [00:08<00:00, 2091.04it/s]\n",
            "Epoch 76. Loss: 2.09724:  97% 16929/17451 [00:08<00:00, 2090.61it/s]\n",
            "Epoch 77. Loss: 2.08826:  97% 16929/17451 [00:08<00:00, 2083.79it/s]\n",
            "Epoch 78. Loss: 2.06936:  97% 16929/17451 [00:08<00:00, 2076.68it/s]\n",
            "Epoch 79. Loss: 2.06431:  97% 16929/17451 [00:08<00:00, 2055.98it/s]\n",
            "Epoch 80. Loss: 2.11637:  97% 16929/17451 [00:08<00:00, 2075.38it/s]\n",
            "Epoch 81. Loss: 2.06837:  97% 16929/17451 [00:08<00:00, 2054.19it/s]\n",
            "Epoch 82. Loss: 2.02919:  97% 16929/17451 [00:08<00:00, 2066.73it/s]\n",
            "Epoch 83. Loss: 2.03368:  97% 16929/17451 [00:08<00:00, 2068.99it/s]\n",
            "Epoch 84. Loss: 2.03897:  97% 16929/17451 [00:08<00:00, 2072.49it/s]\n",
            "Epoch 85. Loss: 1.98452:  97% 16929/17451 [00:08<00:00, 2081.07it/s]\n",
            "Epoch 86. Loss: 2.03548:  97% 16929/17451 [00:08<00:00, 2069.04it/s]\n",
            "Epoch 87. Loss: 1.97578:  97% 16929/17451 [00:08<00:00, 2062.32it/s]\n",
            "Epoch 88. Loss: 1.96239:  97% 16929/17451 [00:08<00:00, 2085.97it/s]\n",
            "Epoch 89. Loss: 1.94200:  97% 16929/17451 [00:08<00:00, 2079.88it/s]\n",
            "Epoch 90. Loss: 1.99524:  97% 16929/17451 [00:08<00:00, 2074.45it/s]\n",
            "Epoch 91. Loss: 1.93895:  97% 16929/17451 [00:08<00:00, 2079.52it/s]\n",
            "Epoch 92. Loss: 1.93378:  97% 16929/17451 [00:08<00:00, 2070.12it/s]\n",
            "Epoch 93. Loss: 1.97110:  97% 16929/17451 [00:08<00:00, 2059.82it/s]\n",
            "Epoch 94. Loss: 2.01422:  97% 16929/17451 [00:08<00:00, 2067.77it/s]\n",
            "Epoch 95. Loss: 1.95796:  97% 16929/17451 [00:08<00:00, 2075.20it/s]\n",
            "Epoch 96. Loss: 1.87696:  97% 16929/17451 [00:08<00:00, 2047.58it/s]\n",
            "Epoch 97. Loss: 1.89864:  97% 16929/17451 [00:08<00:00, 2083.23it/s]\n",
            "Epoch 98. Loss: 1.92705:  97% 16929/17451 [00:08<00:00, 2074.04it/s]\n",
            "Epoch 99. Loss: 1.89856:  97% 16929/17451 [00:08<00:00, 2058.60it/s]\n",
            "Epoch 100. Loss: 1.89898:  97% 16929/17451 [00:08<00:00, 2064.62it/s]\n",
            "Epoch 101. Loss: 1.89942:  97% 16929/17451 [00:08<00:00, 2063.39it/s]\n",
            "Epoch 102. Loss: 1.92483:  97% 16929/17451 [00:08<00:00, 2060.41it/s]\n",
            "Epoch 103. Loss: 1.89474:  97% 16929/17451 [00:08<00:00, 2045.83it/s]\n",
            "Epoch 104. Loss: 1.89347:  97% 16929/17451 [00:08<00:00, 2064.95it/s]\n",
            "Epoch 105. Loss: 1.89385:  97% 16929/17451 [00:08<00:00, 2061.25it/s]\n",
            "Epoch 106. Loss: 1.86049:  97% 16929/17451 [00:08<00:00, 2041.28it/s]\n",
            "Epoch 107. Loss: 1.83499:  97% 16929/17451 [00:08<00:00, 2043.67it/s]\n",
            "Epoch 108. Loss: 1.83639:  97% 16929/17451 [00:08<00:00, 2059.90it/s]\n",
            "Epoch 109. Loss: 1.88261:  97% 16929/17451 [00:08<00:00, 2065.21it/s]\n",
            "Epoch 110. Loss: 1.82783:  97% 16929/17451 [00:08<00:00, 2053.02it/s]\n",
            "Epoch 111. Loss: 1.83838:  97% 16929/17451 [00:08<00:00, 2062.51it/s]\n",
            "Epoch 112. Loss: 1.78494:  97% 16929/17451 [00:08<00:00, 2070.78it/s]\n",
            "Epoch 113. Loss: 1.86030:  97% 16929/17451 [00:08<00:00, 2051.31it/s]\n",
            "Epoch 114. Loss: 1.84129:  97% 16929/17451 [00:08<00:00, 2058.28it/s]\n",
            "Epoch 115. Loss: 1.70797:  97% 16929/17451 [00:08<00:00, 2064.67it/s]\n",
            "Epoch 116. Loss: 1.80845:  97% 16929/17451 [00:08<00:00, 2062.14it/s]\n",
            "Epoch 117. Loss: 1.89483:  97% 16929/17451 [00:08<00:00, 2067.80it/s]\n",
            "Epoch 118. Loss: 1.82757:  97% 16929/17451 [00:08<00:00, 2052.98it/s]\n",
            "Epoch 119. Loss: 1.85723:  97% 16929/17451 [00:08<00:00, 2057.63it/s]\n",
            "Epoch 120. Loss: 1.78640:  97% 16929/17451 [00:08<00:00, 2082.56it/s]\n",
            "Epoch 121. Loss: 1.83715:  97% 16929/17451 [00:08<00:00, 2078.58it/s]\n",
            "Epoch 122. Loss: 1.76899:  97% 16929/17451 [00:08<00:00, 2065.87it/s]\n",
            "Epoch 123. Loss: 1.80710:  97% 16929/17451 [00:08<00:00, 2069.94it/s]\n",
            "Epoch 124. Loss: 1.81731:  97% 16929/17451 [00:08<00:00, 2090.22it/s]\n",
            "Epoch 125. Loss: 1.80624:  97% 16929/17451 [00:08<00:00, 2042.42it/s]\n",
            "Epoch 126. Loss: 1.73713:  97% 16929/17451 [00:08<00:00, 2058.14it/s]\n",
            "Epoch 127. Loss: 1.76121:  97% 16929/17451 [00:08<00:00, 2068.65it/s]\n",
            "Epoch 128. Loss: 1.80030:  97% 16929/17451 [00:08<00:00, 2072.81it/s]\n",
            "Epoch 129. Loss: 1.70528:  97% 16929/17451 [00:08<00:00, 2079.80it/s]\n",
            "Epoch 130. Loss: 1.73948:  97% 16929/17451 [00:08<00:00, 2069.73it/s]\n",
            "Epoch 131. Loss: 1.73217:  97% 16929/17451 [00:08<00:00, 2072.24it/s]\n",
            "Epoch 132. Loss: 1.72979:  97% 16929/17451 [00:08<00:00, 2074.32it/s]\n",
            "Epoch 133. Loss: 1.74299:  97% 16929/17451 [00:08<00:00, 2069.66it/s]\n",
            "Epoch 134. Loss: 1.75351:  97% 16929/17451 [00:08<00:00, 2059.52it/s]\n",
            "Epoch 135. Loss: 1.77077:  97% 16929/17451 [00:08<00:00, 2075.50it/s]\n",
            "Epoch 136. Loss: 1.68872:  97% 16929/17451 [00:08<00:00, 2070.66it/s]\n",
            "Epoch 137. Loss: 1.73410:  97% 16929/17451 [00:08<00:00, 2076.48it/s]\n",
            "Epoch 138. Loss: 1.72910:  97% 16929/17451 [00:08<00:00, 2053.32it/s]\n",
            "Epoch 139. Loss: 1.73342:  97% 16929/17451 [00:08<00:00, 2083.33it/s]\n",
            "Epoch 140. Loss: 1.74938:  97% 16929/17451 [00:08<00:00, 2065.04it/s]\n",
            "Epoch 141. Loss: 1.71606:  97% 16929/17451 [00:08<00:00, 2079.56it/s]\n",
            "Epoch 142. Loss: 1.70609:  97% 16929/17451 [00:08<00:00, 2063.42it/s]\n",
            "Epoch 143. Loss: 1.72211:  97% 16929/17451 [00:08<00:00, 2063.59it/s]\n",
            "Epoch 144. Loss: 1.70478:  97% 16929/17451 [00:08<00:00, 2083.15it/s]\n",
            "Epoch 145. Loss: 1.62462:  97% 16929/17451 [00:08<00:00, 2075.57it/s]\n",
            "Epoch 146. Loss: 1.74347:  97% 16929/17451 [00:08<00:00, 2085.40it/s]\n",
            "Epoch 147. Loss: 1.68609:  97% 16929/17451 [00:08<00:00, 2057.93it/s]\n",
            "Epoch 148. Loss: 1.67443:  97% 16929/17451 [00:08<00:00, 2058.66it/s]\n",
            "Epoch 149. Loss: 1.74220:  97% 16929/17451 [00:08<00:00, 2043.81it/s]\n",
            "Epoch 150. Loss: 1.66836:  97% 16929/17451 [00:08<00:00, 2055.74it/s]\n",
            "Epoch 151. Loss: 1.63417:  97% 16929/17451 [00:08<00:00, 2054.25it/s]\n",
            "Epoch 152. Loss: 1.70582:  97% 16929/17451 [00:08<00:00, 2081.03it/s]\n",
            "Epoch 153. Loss: 1.68655:  97% 16929/17451 [00:08<00:00, 2071.35it/s]\n",
            "Epoch 154. Loss: 1.69547:  97% 16929/17451 [00:08<00:00, 2068.14it/s]\n",
            "Epoch 155. Loss: 1.68798:  97% 16929/17451 [00:08<00:00, 2078.19it/s]\n",
            "Epoch 156. Loss: 1.66599:  97% 16929/17451 [00:08<00:00, 2063.15it/s]\n",
            "Epoch 157. Loss: 1.71785:  97% 16929/17451 [00:08<00:00, 2061.03it/s]\n",
            "Epoch 158. Loss: 1.64983:  97% 16929/17451 [00:08<00:00, 2054.85it/s]\n",
            "Epoch 159. Loss: 1.68749:  97% 16929/17451 [00:08<00:00, 2062.26it/s]\n",
            "Epoch 160. Loss: 1.70892:  97% 16929/17451 [00:08<00:00, 2057.62it/s]\n",
            "Epoch 161. Loss: 1.61396:  97% 16929/17451 [00:08<00:00, 2050.56it/s]\n",
            "Epoch 162. Loss: 1.66663:  97% 16929/17451 [00:08<00:00, 2059.15it/s]\n",
            "Epoch 163. Loss: 1.70614:  97% 16929/17451 [00:08<00:00, 2071.71it/s]\n",
            "Epoch 164. Loss: 1.67572:  97% 16929/17451 [00:08<00:00, 2074.43it/s]\n",
            "Epoch 165. Loss: 1.66229:  97% 16929/17451 [00:08<00:00, 2057.72it/s]\n",
            "Epoch 166. Loss: 1.71712:  97% 16929/17451 [00:08<00:00, 2079.72it/s]\n",
            "Epoch 167. Loss: 1.66531:  97% 16929/17451 [00:08<00:00, 2085.83it/s]\n",
            "Epoch 168. Loss: 1.64484:  97% 16929/17451 [00:08<00:00, 2062.47it/s]\n",
            "Epoch 169. Loss: 1.66583:  97% 16929/17451 [00:08<00:00, 2069.33it/s]\n",
            "Epoch 170. Loss: 1.61742:  97% 16929/17451 [00:08<00:00, 2049.72it/s]\n",
            "Epoch 171. Loss: 1.67125:  97% 16929/17451 [00:08<00:00, 2061.20it/s]\n",
            "Epoch 172. Loss: 1.67501:  97% 16929/17451 [00:08<00:00, 2066.51it/s]\n",
            "Epoch 173. Loss: 1.63524:  97% 16929/17451 [00:08<00:00, 2058.36it/s]\n",
            "Epoch 174. Loss: 1.63277:  97% 16929/17451 [00:08<00:00, 2046.53it/s]\n",
            "Epoch 175. Loss: 1.67518:  97% 16929/17451 [00:08<00:00, 2073.64it/s]\n",
            "Epoch 176. Loss: 1.66653:  97% 16929/17451 [00:08<00:00, 2067.30it/s]\n",
            "Epoch 177. Loss: 1.67814:  97% 16929/17451 [00:08<00:00, 2066.58it/s]\n",
            "Epoch 178. Loss: 1.64749:  97% 16929/17451 [00:08<00:00, 2056.17it/s]\n",
            "Epoch 179. Loss: 1.63883:  97% 16929/17451 [00:08<00:00, 2056.85it/s]\n",
            "Epoch 180. Loss: 1.66949:  97% 16929/17451 [00:08<00:00, 2068.75it/s]\n",
            "Epoch 181. Loss: 1.58404:  97% 16929/17451 [00:08<00:00, 2077.89it/s]\n",
            "Epoch 182. Loss: 1.59932:  97% 16929/17451 [00:08<00:00, 2068.75it/s]\n",
            "Epoch 183. Loss: 1.64133:  97% 16929/17451 [00:08<00:00, 2070.80it/s]\n",
            "Epoch 184. Loss: 1.65345:  97% 16929/17451 [00:08<00:00, 2080.29it/s]\n",
            "Epoch 185. Loss: 1.64830:  97% 16929/17451 [00:08<00:00, 2051.06it/s]\n",
            "Epoch 186. Loss: 1.67056:  97% 16929/17451 [00:08<00:00, 2061.80it/s]\n",
            "Epoch 187. Loss: 1.60788:  97% 16929/17451 [00:08<00:00, 2049.56it/s]\n",
            "Epoch 188. Loss: 1.56257:  97% 16929/17451 [00:08<00:00, 2043.59it/s]\n",
            "Epoch 189. Loss: 1.56981:  97% 16929/17451 [00:08<00:00, 2051.34it/s]\n",
            "Epoch 190. Loss: 1.64897:  97% 16929/17451 [00:08<00:00, 2068.98it/s]\n",
            "Epoch 191. Loss: 1.64755:  97% 16929/17451 [00:08<00:00, 2077.88it/s]\n",
            "Epoch 192. Loss: 1.57704:  97% 16929/17451 [00:08<00:00, 2069.01it/s]\n",
            "Epoch 193. Loss: 1.67827:  97% 16929/17451 [00:08<00:00, 2057.18it/s]\n",
            "Epoch 194. Loss: 1.60776:  97% 16929/17451 [00:08<00:00, 2071.53it/s]\n",
            "Epoch 195. Loss: 1.63891:  97% 16929/17451 [00:08<00:00, 2066.48it/s]\n",
            "Epoch 196. Loss: 1.62110:  97% 16929/17451 [00:08<00:00, 2074.48it/s]\n",
            "Epoch 197. Loss: 1.59229:  97% 16929/17451 [00:08<00:00, 2063.42it/s]\n",
            "Epoch 198. Loss: 1.63081:  97% 16929/17451 [00:08<00:00, 2053.58it/s]\n",
            "Epoch 199. Loss: 1.58948:  97% 16929/17451 [00:08<00:00, 2064.97it/s]\n",
            "Evaluating model...\n",
            "\t - Recall@20 epoch 200: 0.462313\n",
            "\t - MRR@20    epoch 200: 0.163306\n",
            "\n"
          ]
        }
      ]
    },
    {
      "cell_type": "markdown",
      "metadata": {
        "id": "tk9EgsON-8Sr"
      },
      "source": [
        "## Resultados\n",
        "\n",
        "Luego de 200 épocas, deberías obtener un desempeño similar al siguiente:\n",
        "\n",
        "\t - Recall@20: 0.47\n",
        "\t - MRR@20   : 0.16\n",
        "\n",
        "\n",
        "Para replicar resultados del paper, utiliza el set de entrenamiento completo"
      ]
    },
    {
      "cell_type": "markdown",
      "metadata": {
        "id": "njfQIzqi_KK8"
      },
      "source": [
        "## Aprovechando información implícita: Dwell Time\n",
        "\n",
        "Podemos utilizar el tiempo que cada item fue visitado por cada usuario para realizar mejores recomendaciones.\n",
        "\n",
        "El supuesto es: a mayor tiempo de permanencia (dwell time) en un item, más interesado está el usuario en dicho item.\n",
        "\n",
        "Se hará item boosting en el set de entrenamiento."
      ]
    },
    {
      "cell_type": "code",
      "metadata": {
        "id": "lh9fruDcuVYg"
      },
      "source": [
        "def preprocess_df(df):    \n",
        "    n_items = len(df['ItemId'].unique())\n",
        "    aux = list(df['ItemId'].unique())\n",
        "    itemids = np.array(aux)\n",
        "    itemidmap = pd.Series(data=np.arange(n_items), index=itemids)  # (id_item => (0, n_items))\n",
        "    \n",
        "    item_key = 'ItemId'\n",
        "    session_key = 'SessionId'\n",
        "    time_key = 'Time'\n",
        "    \n",
        "    data = pd.merge(df, pd.DataFrame({item_key:itemids, 'ItemIdx':itemidmap[itemids].values}), on=item_key, how='inner')\n",
        "    data.sort_values([session_key, time_key], inplace=True)\n",
        "\n",
        "    length = len(data['ItemId'])\n",
        "        \n",
        "    return data"
      ],
      "execution_count": 11,
      "outputs": []
    },
    {
      "cell_type": "code",
      "metadata": {
        "id": "j5O-1YDR_vNY"
      },
      "source": [
        "def compute_dwell_time(df):\n",
        "    times_t = np.roll(df['Time'], -1) # Take time row\n",
        "    times_dt  = df['Time']            # Copy, then displace by one\n",
        "    diffs = np.subtract(times_t, times_dt) # Take pairwise difference\n",
        "    length = len(df['ItemId'])\n",
        "    \n",
        "    # cummulative offset start for each session\n",
        "    offset_sessions = np.zeros(df['SessionId'].nunique()+1, dtype=np.int32)\n",
        "    offset_sessions[1:] = df.groupby('SessionId').size().cumsum() \n",
        "    offset_sessions = offset_sessions - 1\n",
        "    offset_sessions = np.roll(offset_sessions, -1)\n",
        "    \n",
        "    np.put(diffs.values, offset_sessions, np.zeros((offset_sessions.shape)), mode='raise')\n",
        "\n",
        "    return diffs"
      ],
      "execution_count": 12,
      "outputs": []
    },
    {
      "cell_type": "code",
      "metadata": {
        "id": "7vFvOPH9Bfeq"
      },
      "source": [
        "def get_distribution(dts):\n",
        "    filtered = np.array(list(filter(lambda x: int(x) != 0, dts)))\n",
        "    pd_dts = pd.DataFrame(filtered)\n",
        "    pd_dts.boxplot(vert=False, showfliers=False)\n",
        "    plt.xlabel(\"Seconds\")\n",
        "    plt.yticks([])\n",
        "    plt.title(\"Dwell time distribution for RSC15 dataset\")\n",
        "    plt.show()\n",
        "    pd_dts.describe()"
      ],
      "execution_count": 13,
      "outputs": []
    },
    {
      "cell_type": "code",
      "metadata": {
        "id": "pPxWD0xPBfVE"
      },
      "source": [
        "def join_dwell_reps(df, dt, threshold=2000):\n",
        "    # Calculate d_ti/threshold + 1 then add column to dataFrame\n",
        "    dt //= threshold\n",
        "    dt += 1   \n",
        "    df['DwellReps'] = pd.Series(dt.astype(np.int64), index=dt.index)"
      ],
      "execution_count": 14,
      "outputs": []
    },
    {
      "cell_type": "code",
      "metadata": {
        "id": "jYX1RjhQ_wZG"
      },
      "source": [
        "def augment(df):    \n",
        "    col_names = list(df.columns.values)[:3]\n",
        "    augmented = np.repeat(df.values, df['DwellReps'], axis=0) \n",
        "    augmented = pd.DataFrame(data=augmented[:,:3],\n",
        "                             columns=col_names)\n",
        "    dtype = {'SessionId': np.int64, \n",
        "             'ItemId': np.int64, \n",
        "             'Time': np.float32}\n",
        "    \n",
        "    for k, v in dtype.items():\n",
        "        augmented[k] = augmented[k].astype(v)                  \n",
        "    \n",
        "    return augmented"
      ],
      "execution_count": 15,
      "outputs": []
    },
    {
      "cell_type": "code",
      "metadata": {
        "id": "veILDG2X_yJm"
      },
      "source": [
        "new_df = preprocess_df(train)\n",
        "dts = compute_dwell_time(new_df)"
      ],
      "execution_count": 16,
      "outputs": []
    },
    {
      "cell_type": "code",
      "metadata": {
        "id": "7xIJMF5aABmF",
        "colab": {
          "base_uri": "https://localhost:8080/",
          "height": 295
        },
        "outputId": "891498bc-0554-4c59-ea26-d090158b051e"
      },
      "source": [
        "# Visualize\n",
        "get_distribution(dts)"
      ],
      "execution_count": 17,
      "outputs": [
        {
          "output_type": "display_data",
          "data": {
            "image/png": "[encoded data removed]",
            "text/plain": [
              "<Figure size 432x288 with 1 Axes>"
            ]
          },
          "metadata": {
            "needs_background": "light"
          }
        }
      ]
    },
    {
      "cell_type": "code",
      "metadata": {
        "id": "Y4mZ3YB0Ai4q"
      },
      "source": [
        "# threshold is a hyperparameter\n",
        "join_dwell_reps(new_df, dts, threshold=75)\n",
        "\n",
        "# augment the sessions copying each entry an additional (dwellReps[i]-1) times\n",
        "df_aug = augment(new_df)\n",
        "df_aug.to_csv(\"./data/augmented_train.csv\", index=False, sep='\\t')"
      ],
      "execution_count": 18,
      "outputs": []
    },
    {
      "cell_type": "code",
      "metadata": {
        "id": "X1N36STyCrrs",
        "colab": {
          "base_uri": "https://localhost:8080/"
        },
        "outputId": "624af10e-d9ec-4160-b741-f3c57122bbcf"
      },
      "source": [
        "# retrieve 1/n most recent fraction for demo purposes \n",
        "# (note it is a smaller fraction due to the inflation process)\n",
        "fraction = 64*7\n",
        "train_fraction(df_aug, fraction, prefix='aug_train')"
      ],
      "execution_count": 19,
      "outputs": [
        {
          "output_type": "stream",
          "name": "stdout",
          "text": [
            "Fractioned data set\n",
            "\tEvents: 151923\n",
            "\tSessions: 16351\n",
            "\tItems: 8484\n",
            "Saved as ./data/aug_train_448.tsv\n"
          ]
        }
      ]
    },
    {
      "cell_type": "markdown",
      "metadata": {
        "id": "v2E2q1ArD5Sr"
      },
      "source": [
        "## Entrenamiento con Dwell Time"
      ]
    },
    {
      "cell_type": "code",
      "metadata": {
        "id": "HNq8lpRADWZ2",
        "colab": {
          "base_uri": "https://localhost:8080/"
        },
        "outputId": "3748cb45-c430-46cb-da19-ba13f373d35a"
      },
      "source": [
        "!python src/model/gru4rec.py --epochs 200 --train-path ./data/aug_train_448.tsv --dev-path ./data/validation.tsv --test-path ./data/test.tsv"
      ],
      "execution_count": 20,
      "outputs": [
        {
          "output_type": "stream",
          "name": "stdout",
          "text": [
            "/usr/local/lib/python3.7/dist-packages/keras/optimizer_v2/optimizer_v2.py:356: UserWarning: The `lr` argument is deprecated, use `learning_rate` instead.\n",
            "  \"The `lr` argument is deprecated, use `learning_rate` instead.\")\n",
            "Model: \"model\"\n",
            "_________________________________________________________________\n",
            "Layer (type)                 Output Shape              Param #   \n",
            "=================================================================\n",
            "input_1 (InputLayer)         [(512, 1, 8485)]          0         \n",
            "_________________________________________________________________\n",
            "GRU (GRU)                    [(512, 100), (512, 100)]  2576100   \n",
            "_________________________________________________________________\n",
            "dropout (Dropout)            (512, 100)                0         \n",
            "_________________________________________________________________\n",
            "dense (Dense)                (512, 8485)               856985    \n",
            "=================================================================\n",
            "Total params: 3,433,085\n",
            "Trainable params: 3,433,085\n",
            "Non-trainable params: 0\n",
            "_________________________________________________________________\n",
            "Epoch 1. Loss: 7.63679:  97% 15835/16352 [00:26<00:00, 604.85it/s]\n",
            "Epoch 2. Loss: 6.90287:  97% 15835/16352 [00:19<00:00, 797.20it/s]\n",
            "Epoch 3. Loss: 6.10323:  97% 15835/16352 [00:20<00:00, 789.80it/s]\n",
            "Epoch 4. Loss: 5.23869:  97% 15835/16352 [00:19<00:00, 800.47it/s]\n",
            "Epoch 5. Loss: 4.60306:  97% 15835/16352 [00:19<00:00, 800.81it/s]\n",
            "Epoch 6. Loss: 4.11699:  97% 15835/16352 [00:19<00:00, 797.41it/s]\n",
            "Epoch 7. Loss: 3.68834:  97% 15835/16352 [00:19<00:00, 797.50it/s]\n",
            "Epoch 8. Loss: 3.40205:  97% 15835/16352 [00:19<00:00, 798.62it/s]\n",
            "Epoch 9. Loss: 3.16335:  97% 15835/16352 [00:19<00:00, 800.44it/s]\n",
            "Epoch 10. Loss: 2.92438:  97% 15835/16352 [00:19<00:00, 792.51it/s]\n",
            "Epoch 11. Loss: 2.75046:  97% 15835/16352 [00:19<00:00, 798.21it/s]\n",
            "Epoch 12. Loss: 2.59506:  97% 15835/16352 [00:19<00:00, 801.38it/s]\n",
            "Epoch 13. Loss: 2.46907:  97% 15835/16352 [00:19<00:00, 799.06it/s]\n",
            "Epoch 14. Loss: 2.36667:  97% 15835/16352 [00:19<00:00, 801.99it/s]\n",
            "Epoch 15. Loss: 2.26195:  97% 15835/16352 [00:19<00:00, 802.98it/s]\n",
            "Epoch 16. Loss: 2.18023:  97% 15835/16352 [00:19<00:00, 801.37it/s]\n",
            "Epoch 17. Loss: 2.09809:  97% 15835/16352 [00:19<00:00, 798.58it/s]\n",
            "Epoch 18. Loss: 1.98902:  97% 15835/16352 [00:19<00:00, 797.93it/s]\n",
            "Epoch 19. Loss: 1.93641:  97% 15835/16352 [00:19<00:00, 797.43it/s]\n",
            "Epoch 20. Loss: 1.88122:  97% 15835/16352 [00:19<00:00, 800.98it/s]\n",
            "Epoch 21. Loss: 1.81292:  97% 15835/16352 [00:19<00:00, 800.14it/s]\n",
            "Epoch 22. Loss: 1.80093:  97% 15835/16352 [00:19<00:00, 803.54it/s]\n",
            "Epoch 23. Loss: 1.75019:  97% 15835/16352 [00:19<00:00, 806.82it/s]\n",
            "Epoch 24. Loss: 1.69812:  97% 15835/16352 [00:19<00:00, 806.24it/s]\n",
            "Epoch 25. Loss: 1.63127:  97% 15835/16352 [00:19<00:00, 812.14it/s]\n",
            "Epoch 26. Loss: 1.62081:  97% 15835/16352 [00:19<00:00, 801.96it/s]\n",
            "Epoch 27. Loss: 1.59569:  97% 15835/16352 [00:19<00:00, 804.61it/s]\n",
            "Epoch 28. Loss: 1.58963:  97% 15835/16352 [00:19<00:00, 803.82it/s]\n",
            "Epoch 29. Loss: 1.53013:  97% 15835/16352 [00:19<00:00, 803.50it/s]\n",
            "Epoch 30. Loss: 1.48806:  97% 15835/16352 [00:19<00:00, 803.76it/s]\n",
            "Epoch 31. Loss: 1.45587:  97% 15835/16352 [00:19<00:00, 807.46it/s]\n",
            "Epoch 32. Loss: 1.45877:  97% 15835/16352 [00:19<00:00, 802.92it/s]\n",
            "Epoch 33. Loss: 1.42445:  97% 15835/16352 [00:19<00:00, 799.10it/s]\n",
            "Epoch 34. Loss: 1.43289:  97% 15835/16352 [00:19<00:00, 800.53it/s]\n",
            "Epoch 35. Loss: 1.40335:  97% 15835/16352 [00:19<00:00, 800.63it/s]\n",
            "Epoch 36. Loss: 1.38699:  97% 15835/16352 [00:19<00:00, 800.28it/s]\n",
            "Epoch 37. Loss: 1.39858:  97% 15835/16352 [00:19<00:00, 801.34it/s]\n",
            "Epoch 38. Loss: 1.35968:  97% 15835/16352 [00:19<00:00, 801.24it/s]\n",
            "Epoch 39. Loss: 1.31638:  97% 15835/16352 [00:19<00:00, 804.19it/s]\n",
            "Epoch 40. Loss: 1.31038:  97% 15835/16352 [00:19<00:00, 800.41it/s]\n",
            "Epoch 41. Loss: 1.26259:  97% 15835/16352 [00:19<00:00, 803.65it/s]\n",
            "Epoch 42. Loss: 1.30168:  97% 15835/16352 [00:19<00:00, 802.78it/s]\n",
            "Epoch 43. Loss: 1.26896:  97% 15835/16352 [00:19<00:00, 797.97it/s]\n",
            "Epoch 44. Loss: 1.31069:  97% 15835/16352 [00:19<00:00, 805.83it/s]\n",
            "Epoch 45. Loss: 1.30361:  97% 15835/16352 [00:19<00:00, 798.38it/s]\n",
            "Epoch 46. Loss: 1.30308:  97% 15835/16352 [00:19<00:00, 799.93it/s]\n",
            "Epoch 47. Loss: 1.27587:  97% 15835/16352 [00:19<00:00, 800.48it/s]\n",
            "Epoch 48. Loss: 1.25502:  97% 15835/16352 [00:19<00:00, 803.01it/s]\n",
            "Epoch 49. Loss: 1.23505:  97% 15835/16352 [00:19<00:00, 804.63it/s]\n",
            "Epoch 50. Loss: 1.23984:  97% 15835/16352 [00:19<00:00, 800.46it/s]\n",
            "Epoch 51. Loss: 1.24036:  97% 15835/16352 [00:19<00:00, 800.38it/s]\n",
            "Epoch 52. Loss: 1.24944:  97% 15835/16352 [00:19<00:00, 802.01it/s]\n",
            "Epoch 53. Loss: 1.22227:  97% 15835/16352 [00:19<00:00, 804.36it/s]\n",
            "Epoch 54. Loss: 1.21036:  97% 15835/16352 [00:19<00:00, 802.41it/s]\n",
            "Epoch 55. Loss: 1.20295:  97% 15835/16352 [00:19<00:00, 799.77it/s]\n",
            "Epoch 56. Loss: 1.18923:  97% 15835/16352 [00:19<00:00, 802.67it/s]\n",
            "Epoch 57. Loss: 1.21844:  97% 15835/16352 [00:19<00:00, 801.03it/s]\n",
            "Epoch 58. Loss: 1.17503:  97% 15835/16352 [00:19<00:00, 801.73it/s]\n",
            "Epoch 59. Loss: 1.18416:  97% 15835/16352 [00:19<00:00, 800.80it/s]\n",
            "Epoch 60. Loss: 1.16151:  97% 15835/16352 [00:19<00:00, 804.76it/s]\n",
            "Epoch 61. Loss: 1.17682:  97% 15835/16352 [00:19<00:00, 802.45it/s]\n",
            "Epoch 62. Loss: 1.21169:  97% 15835/16352 [00:19<00:00, 805.86it/s]\n",
            "Epoch 63. Loss: 1.15125:  97% 15835/16352 [00:19<00:00, 803.78it/s]\n",
            "Epoch 64. Loss: 1.14365:  97% 15835/16352 [00:19<00:00, 804.68it/s]\n",
            "Epoch 65. Loss: 1.15034:  97% 15835/16352 [00:19<00:00, 803.14it/s]\n",
            "Epoch 66. Loss: 1.14139:  97% 15835/16352 [00:19<00:00, 802.08it/s]\n",
            "Epoch 67. Loss: 1.11249:  97% 15835/16352 [00:19<00:00, 803.92it/s]\n",
            "Epoch 68. Loss: 1.13318:  97% 15835/16352 [00:19<00:00, 804.21it/s]\n",
            "Epoch 69. Loss: 1.18799:  97% 15835/16352 [00:19<00:00, 808.64it/s]\n",
            "Epoch 70. Loss: 1.11574:  97% 15835/16352 [00:19<00:00, 806.49it/s]\n",
            "Epoch 71. Loss: 1.13432:  97% 15835/16352 [00:19<00:00, 804.62it/s]\n",
            "Epoch 72. Loss: 1.13165:  97% 15835/16352 [00:19<00:00, 800.64it/s]\n",
            "Epoch 73. Loss: 1.10700:  97% 15835/16352 [00:19<00:00, 802.76it/s]\n",
            "Epoch 74. Loss: 1.11425:  97% 15835/16352 [00:19<00:00, 803.29it/s]\n",
            "Epoch 75. Loss: 1.05174:  97% 15835/16352 [00:19<00:00, 807.93it/s]\n",
            "Epoch 76. Loss: 1.13606:  97% 15835/16352 [00:19<00:00, 801.61it/s]\n",
            "Epoch 77. Loss: 1.08401:  97% 15835/16352 [00:19<00:00, 806.58it/s]\n",
            "Epoch 78. Loss: 1.10157:  97% 15835/16352 [00:19<00:00, 805.84it/s]\n",
            "Epoch 79. Loss: 1.13205:  97% 15835/16352 [00:19<00:00, 805.53it/s]\n",
            "Epoch 80. Loss: 1.06727:  97% 15835/16352 [00:19<00:00, 802.87it/s]\n",
            "Epoch 81. Loss: 1.06928:  97% 15835/16352 [00:19<00:00, 800.33it/s]\n",
            "Epoch 82. Loss: 1.08675:  97% 15835/16352 [00:19<00:00, 806.52it/s]\n",
            "Epoch 83. Loss: 1.08801:  97% 15835/16352 [00:19<00:00, 803.53it/s]\n",
            "Epoch 84. Loss: 1.03280:  97% 15835/16352 [00:19<00:00, 802.58it/s]\n",
            "Epoch 85. Loss: 1.09605:  97% 15835/16352 [00:19<00:00, 805.17it/s]\n",
            "Epoch 86. Loss: 1.10171:  97% 15835/16352 [00:19<00:00, 801.27it/s]\n",
            "Epoch 87. Loss: 1.04823:  97% 15835/16352 [00:19<00:00, 805.33it/s]\n",
            "Epoch 88. Loss: 1.03578:  97% 15835/16352 [00:19<00:00, 805.09it/s]\n",
            "Epoch 89. Loss: 1.03922:  97% 15835/16352 [00:19<00:00, 804.61it/s]\n",
            "Epoch 90. Loss: 1.05511:  97% 15835/16352 [00:19<00:00, 806.00it/s]\n",
            "Epoch 91. Loss: 1.08226:  97% 15835/16352 [00:19<00:00, 810.08it/s]\n",
            "Epoch 92. Loss: 1.06724:  97% 15835/16352 [00:19<00:00, 812.69it/s]\n",
            "Epoch 93. Loss: 1.03449:  97% 15835/16352 [00:19<00:00, 807.25it/s]\n",
            "Epoch 94. Loss: 1.00189:  97% 15835/16352 [00:19<00:00, 811.21it/s]\n",
            "Epoch 95. Loss: 1.00888:  97% 15835/16352 [00:19<00:00, 805.92it/s]\n",
            "Epoch 96. Loss: 1.01943:  97% 15835/16352 [00:19<00:00, 806.96it/s]\n",
            "Epoch 97. Loss: 1.05642:  97% 15835/16352 [00:19<00:00, 809.10it/s]\n",
            "Epoch 98. Loss: 1.05228:  97% 15835/16352 [00:19<00:00, 809.43it/s]\n",
            "Epoch 99. Loss: 1.01470:  97% 15835/16352 [00:19<00:00, 806.01it/s]\n",
            "Epoch 100. Loss: 1.01871:  97% 15835/16352 [00:19<00:00, 805.27it/s]\n",
            "Epoch 101. Loss: 1.02657:  97% 15835/16352 [00:19<00:00, 797.26it/s]\n",
            "Epoch 102. Loss: 1.00389:  97% 15835/16352 [00:19<00:00, 805.56it/s]\n",
            "Epoch 103. Loss: 0.98528:  97% 15835/16352 [00:19<00:00, 805.02it/s]\n",
            "Epoch 104. Loss: 1.05192:  97% 15835/16352 [00:19<00:00, 808.12it/s]\n",
            "Epoch 105. Loss: 1.01369:  97% 15835/16352 [00:19<00:00, 809.89it/s]\n",
            "Epoch 106. Loss: 1.03532:  97% 15835/16352 [00:19<00:00, 804.02it/s]\n",
            "Epoch 107. Loss: 0.98358:  97% 15835/16352 [00:19<00:00, 802.12it/s]\n",
            "Epoch 108. Loss: 0.97107:  97% 15835/16352 [00:19<00:00, 806.35it/s]\n",
            "Epoch 109. Loss: 0.99595:  97% 15835/16352 [00:19<00:00, 809.03it/s]\n",
            "Epoch 110. Loss: 0.99873:  97% 15835/16352 [00:19<00:00, 808.20it/s]\n",
            "Epoch 111. Loss: 1.00929:  97% 15835/16352 [00:19<00:00, 812.48it/s]\n",
            "Epoch 112. Loss: 0.99622:  97% 15835/16352 [00:19<00:00, 802.93it/s]\n",
            "Epoch 113. Loss: 0.98574:  97% 15835/16352 [00:19<00:00, 802.11it/s]\n",
            "Epoch 114. Loss: 0.99679:  97% 15835/16352 [00:19<00:00, 804.70it/s]\n",
            "Epoch 115. Loss: 1.01989:  97% 15835/16352 [00:19<00:00, 802.65it/s]\n",
            "Epoch 116. Loss: 0.94194:  97% 15835/16352 [00:19<00:00, 802.48it/s]\n",
            "Epoch 117. Loss: 0.96638:  97% 15835/16352 [00:19<00:00, 805.49it/s]\n",
            "Epoch 118. Loss: 0.95896:  97% 15835/16352 [00:19<00:00, 809.09it/s]\n",
            "Epoch 119. Loss: 0.96853:  97% 15835/16352 [00:19<00:00, 805.23it/s]\n",
            "Epoch 120. Loss: 0.96646:  97% 15835/16352 [00:19<00:00, 803.77it/s]\n",
            "Epoch 121. Loss: 0.94497:  97% 15835/16352 [00:19<00:00, 802.37it/s]\n",
            "Epoch 122. Loss: 0.99733:  97% 15835/16352 [00:19<00:00, 797.47it/s]\n",
            "Epoch 123. Loss: 0.94001:  97% 15835/16352 [00:19<00:00, 803.82it/s]\n",
            "Epoch 124. Loss: 0.93214:  97% 15835/16352 [00:19<00:00, 805.94it/s]\n",
            "Epoch 125. Loss: 1.01670:  97% 15835/16352 [00:19<00:00, 805.91it/s]\n",
            "Epoch 126. Loss: 0.97943:  97% 15835/16352 [00:19<00:00, 801.36it/s]\n",
            "Epoch 127. Loss: 0.95393:  97% 15835/16352 [00:19<00:00, 803.68it/s]\n",
            "Epoch 128. Loss: 0.94014:  97% 15835/16352 [00:19<00:00, 803.41it/s]\n",
            "Epoch 129. Loss: 0.99212:  97% 15835/16352 [00:19<00:00, 806.97it/s]\n",
            "Epoch 130. Loss: 0.94619:  97% 15835/16352 [00:19<00:00, 807.29it/s]\n",
            "Epoch 131. Loss: 0.94917:  97% 15835/16352 [00:19<00:00, 805.77it/s]\n",
            "Epoch 132. Loss: 0.95763:  97% 15835/16352 [00:19<00:00, 809.41it/s]\n",
            "Epoch 133. Loss: 0.95469:  97% 15835/16352 [00:19<00:00, 808.79it/s]\n",
            "Epoch 134. Loss: 0.92246:  97% 15835/16352 [00:19<00:00, 807.52it/s]\n",
            "Epoch 135. Loss: 0.96607:  97% 15835/16352 [00:19<00:00, 804.31it/s]\n",
            "Epoch 136. Loss: 0.97497:  97% 15835/16352 [00:19<00:00, 804.53it/s]\n",
            "Epoch 137. Loss: 0.93208:  97% 15835/16352 [00:19<00:00, 807.29it/s]\n",
            "Epoch 138. Loss: 0.93138:  97% 15835/16352 [00:19<00:00, 807.58it/s]\n",
            "Epoch 139. Loss: 0.95373:  97% 15835/16352 [00:19<00:00, 807.00it/s]\n",
            "Epoch 140. Loss: 1.03056:  97% 15835/16352 [00:19<00:00, 804.61it/s]\n",
            "Epoch 141. Loss: 0.93589:  97% 15835/16352 [00:19<00:00, 807.12it/s]\n",
            "Epoch 142. Loss: 0.95925:  97% 15835/16352 [00:19<00:00, 807.28it/s]\n",
            "Epoch 143. Loss: 0.98697:  97% 15835/16352 [00:19<00:00, 808.35it/s]\n",
            "Epoch 144. Loss: 1.02244:  97% 15835/16352 [00:19<00:00, 810.21it/s]\n",
            "Epoch 145. Loss: 0.98007:  97% 15835/16352 [00:19<00:00, 812.19it/s]\n",
            "Epoch 146. Loss: 0.93577:  97% 15835/16352 [00:19<00:00, 810.91it/s]\n",
            "Epoch 147. Loss: 0.95604:  97% 15835/16352 [00:19<00:00, 809.07it/s]\n",
            "Epoch 148. Loss: 0.96240:  97% 15835/16352 [00:19<00:00, 800.94it/s]\n",
            "Epoch 149. Loss: 0.94396:  97% 15835/16352 [00:19<00:00, 806.99it/s]\n",
            "Epoch 150. Loss: 0.95757:  97% 15835/16352 [00:19<00:00, 800.13it/s]\n",
            "Epoch 151. Loss: 0.97579:  97% 15835/16352 [00:19<00:00, 800.58it/s]\n",
            "Epoch 152. Loss: 0.93208:  97% 15835/16352 [00:19<00:00, 804.08it/s]\n",
            "Epoch 153. Loss: 0.97959:  97% 15835/16352 [00:19<00:00, 802.61it/s]\n",
            "Epoch 154. Loss: 0.93988:  97% 15835/16352 [00:19<00:00, 803.88it/s]\n",
            "Epoch 155. Loss: 0.96653:  97% 15835/16352 [00:19<00:00, 806.85it/s]\n",
            "Epoch 156. Loss: 0.94787:  97% 15835/16352 [00:19<00:00, 801.11it/s]\n",
            "Epoch 157. Loss: 0.93233:  97% 15835/16352 [00:19<00:00, 800.62it/s]\n",
            "Epoch 158. Loss: 0.94509:  97% 15835/16352 [00:19<00:00, 797.33it/s]\n",
            "Epoch 159. Loss: 0.99205:  97% 15835/16352 [00:19<00:00, 798.20it/s]\n",
            "Epoch 160. Loss: 0.99749:  97% 15835/16352 [00:19<00:00, 800.29it/s]\n",
            "Epoch 161. Loss: 0.96374:  97% 15835/16352 [00:19<00:00, 799.36it/s]\n",
            "Epoch 162. Loss: 0.93741:  97% 15835/16352 [00:19<00:00, 808.69it/s]\n",
            "Epoch 163. Loss: 0.92876:  97% 15835/16352 [00:19<00:00, 805.74it/s]\n",
            "Epoch 164. Loss: 0.95715:  97% 15835/16352 [00:19<00:00, 802.02it/s]\n",
            "Epoch 165. Loss: 0.97007:  97% 15835/16352 [00:19<00:00, 807.54it/s]\n",
            "Epoch 166. Loss: 0.95282:  97% 15835/16352 [00:19<00:00, 792.38it/s]\n",
            "Epoch 167. Loss: 0.92280:  97% 15835/16352 [00:19<00:00, 807.93it/s]\n",
            "Epoch 168. Loss: 0.92480:  97% 15835/16352 [00:19<00:00, 808.61it/s]\n",
            "Epoch 169. Loss: 1.01309:  97% 15835/16352 [00:19<00:00, 805.71it/s]\n",
            "Epoch 170. Loss: 0.93682:  97% 15835/16352 [00:19<00:00, 807.54it/s]\n",
            "Epoch 171. Loss: 0.96688:  97% 15835/16352 [00:19<00:00, 808.97it/s]\n",
            "Epoch 172. Loss: 0.93060:  97% 15835/16352 [00:19<00:00, 807.33it/s]\n",
            "Epoch 173. Loss: 0.93136:  97% 15835/16352 [00:19<00:00, 803.95it/s]\n",
            "Epoch 174. Loss: 0.93962:  97% 15835/16352 [00:19<00:00, 806.45it/s]\n",
            "Epoch 175. Loss: 0.95978:  97% 15835/16352 [00:19<00:00, 800.96it/s]\n",
            "Epoch 176. Loss: 0.95173:  97% 15835/16352 [00:19<00:00, 805.13it/s]\n",
            "Epoch 177. Loss: 0.98049:  97% 15835/16352 [00:19<00:00, 801.64it/s]\n",
            "Epoch 178. Loss: 0.95315:  97% 15835/16352 [00:19<00:00, 809.16it/s]\n",
            "Epoch 179. Loss: 0.97943:  97% 15835/16352 [00:19<00:00, 807.29it/s]\n",
            "Epoch 180. Loss: 0.92211:  97% 15835/16352 [00:19<00:00, 807.25it/s]\n",
            "Epoch 181. Loss: 0.97109:  97% 15835/16352 [00:19<00:00, 811.18it/s]\n",
            "Epoch 182. Loss: 0.88774:  97% 15835/16352 [00:19<00:00, 806.17it/s]\n",
            "Epoch 183. Loss: 0.94186:  97% 15835/16352 [00:19<00:00, 805.44it/s]\n",
            "Epoch 184. Loss: 0.94686:  97% 15835/16352 [00:19<00:00, 805.57it/s]\n",
            "Epoch 185. Loss: 0.96963:  97% 15835/16352 [00:19<00:00, 805.52it/s]\n",
            "Epoch 186. Loss: 1.00776:  97% 15835/16352 [00:19<00:00, 800.78it/s]\n",
            "Epoch 187. Loss: 0.98160:  97% 15835/16352 [00:19<00:00, 803.42it/s]\n",
            "Epoch 188. Loss: 1.00285:  97% 15835/16352 [00:19<00:00, 806.34it/s]\n",
            "Epoch 189. Loss: 0.90656:  97% 15835/16352 [00:19<00:00, 804.69it/s]\n",
            "Epoch 190. Loss: 0.99892:  97% 15835/16352 [00:19<00:00, 804.94it/s]\n",
            "Epoch 191. Loss: 0.94805:  97% 15835/16352 [00:19<00:00, 797.87it/s]\n",
            "Epoch 192. Loss: 0.95339:  97% 15835/16352 [00:19<00:00, 803.49it/s]\n",
            "Epoch 193. Loss: 0.90385:  97% 15835/16352 [00:19<00:00, 803.96it/s]\n",
            "Epoch 194. Loss: 0.93925:  97% 15835/16352 [00:19<00:00, 800.47it/s]\n",
            "Epoch 195. Loss: 0.90373:  97% 15835/16352 [00:19<00:00, 803.45it/s]\n",
            "Epoch 196. Loss: 0.98470:  97% 15835/16352 [00:19<00:00, 808.54it/s]\n",
            "Epoch 197. Loss: 0.93646:  97% 15835/16352 [00:19<00:00, 807.67it/s]\n",
            "Epoch 198. Loss: 0.91632:  97% 15835/16352 [00:19<00:00, 808.48it/s]\n",
            "Epoch 199. Loss: 0.95754:  97% 15835/16352 [00:19<00:00, 803.89it/s]\n",
            "Evaluating model...\n",
            "\t - Recall@20 epoch 200: 0.507055\n",
            "\t - MRR@20    epoch 200: 0.207338\n",
            "\n"
          ]
        }
      ]
    },
    {
      "cell_type": "markdown",
      "metadata": {
        "id": "YdMFiWFK65w1"
      },
      "source": [
        "Indique el resultado del modelo con Dwell Time. \n",
        "\n",
        "**COMPLETE**"
      ]
    },
    {
      "cell_type": "markdown",
      "metadata": {
        "id": "8pGeqWYComS1"
      },
      "source": [
        "Luego de 200 épocas, se obtiene:\n",
        "\n",
        "\t - Recall@20: 0.507\n",
        "\t - MRR@20   : 0.207\n",
        "\n",
        "Se puede apreciar que con Dwell Time se obtiene una mejora. 0.044742 para Recall@20 y 0.044032 para MRR@20."
      ]
    }
  ]
}